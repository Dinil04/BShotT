{
 "cells": [
  {
   "cell_type": "code",
   "execution_count": 60,
   "metadata": {},
   "outputs": [
    {
     "name": "stdout",
     "output_type": "stream",
     "text": [
      "TensorFlow: 2.18.0\n",
      "OpenCV: 4.11.0\n",
      "Mediapipe: 0.10.21\n",
      "Ultralytics YOLO: 8.3.89\n",
      "Flask: 3.1.0\n"
     ]
    },
    {
     "name": "stderr",
     "output_type": "stream",
     "text": [
      "/var/folders/rw/7n1dqrds7pl3t6fc5xkq7rl80000gn/T/ipykernel_6660/2236596067.py:14: DeprecationWarning: The '__version__' attribute is deprecated and will be removed in Flask 3.1. Use feature detection or 'importlib.metadata.version(\"flask\")' instead.\n",
      "  print(\"Flask:\", flask.__version__)\n"
     ]
    }
   ],
   "source": [
    "import tensorflow as tf\n",
    "import cv2\n",
    "import mediapipe as mp\n",
    "import ultralytics\n",
    "import sklearn\n",
    "import pandas as pd\n",
    "import numpy as np\n",
    "import flask\n",
    "\n",
    "print(\"TensorFlow:\", tf.__version__)\n",
    "print(\"OpenCV:\", cv2.__version__)\n",
    "print(\"Mediapipe:\", mp.__version__)\n",
    "print(\"Ultralytics YOLO:\", ultralytics.__version__)\n",
    "print(\"Flask:\", flask.__version__)\n"
   ]
  },
  {
   "cell_type": "code",
   "execution_count": 62,
   "metadata": {},
   "outputs": [
    {
     "name": "stderr",
     "output_type": "stream",
     "text": [
      "I0000 00:00:1741942708.277716  217923 gl_context.cc:369] GL version: 2.1 (2.1 Metal - 89.3), renderer: Apple M3\n",
      "W0000 00:00:1741942708.351555  615764 inference_feedback_manager.cc:114] Feedback manager requires a model with a single signature inference. Disabling support for feedback tensors.\n",
      "W0000 00:00:1741942708.389801  615770 inference_feedback_manager.cc:114] Feedback manager requires a model with a single signature inference. Disabling support for feedback tensors.\n"
     ]
    },
    {
     "name": "stdout",
     "output_type": "stream",
     "text": [
      "⚠️ Custom YOLO weights not found! Using default YOLOv8n weights.\n",
      "Error: [Errno 2] No such file or directory: 'runs/detect/train/weights/best.pt'\n",
      "✅ Project Initialized!\n",
      "✅ Shot Classes Detected: ['Cover_Drive', 'Cut_shot', 'Defence', 'Pull_Shot', 'Sweep_Shot']\n",
      "✅ Frames per Sequence: 60\n",
      "✅ Features per Frame (Pose + Bat/Ball): 106\n"
     ]
    }
   ],
   "source": [
    "# ✅ Essential Imports\n",
    "import os\n",
    "import cv2\n",
    "import numpy as np\n",
    "import pandas as pd\n",
    "import mediapipe as mp\n",
    "from tqdm import tqdm\n",
    "from ultralytics import YOLO\n",
    "import tensorflow as tf\n",
    "import matplotlib.pyplot as plt\n",
    "import seaborn as sns\n",
    "from sklearn.model_selection import train_test_split\n",
    "from sklearn.preprocessing import LabelEncoder\n",
    "from tensorflow.keras.utils import to_categorical\n",
    "from tensorflow.keras.callbacks import EarlyStopping, ReduceLROnPlateau, ModelCheckpoint\n",
    "\n",
    "# ✅ Dataset & Feature Extraction Parameters\n",
    "DATASET_PATH = \"cricket_shot\"         # Folder containing labeled shot videos (organized by class)\n",
    "SEQUENCE_LENGTH = 60                  # Frames per sequence for better temporal representation\n",
    "FRAME_INTERVAL = 1                    # Capture every frame (for rich data extraction)\n",
    "POSE_KEYPOINTS = 33 * 3               # 33 landmarks * (x, y, z) = 99 pose features\n",
    "EXTRA_FEATURES = 7                   # Bat (2) + Bat Speed (1) + Bat Angle (1) + Ball (2) + Ball Speed (1)\n",
    "\n",
    "# ✅ Training Parameters\n",
    "BATCH_SIZE = 8                        # Smaller batch size → better gradient flow\n",
    "EPOCHS = 100                          # More epochs → better learning\n",
    "TEST_SIZE = 0.2                       # 80% train, 20% test\n",
    "RANDOM_STATE = 42                     # Reproducibility\n",
    "\n",
    "# ✅ Initialize Mediapipe Pose Estimation\n",
    "mp_pose = mp.solutions.pose\n",
    "pose = mp_pose.Pose(\n",
    "    static_image_mode=False,\n",
    "    model_complexity=2,\n",
    "    min_detection_confidence=0.5\n",
    ")\n",
    "\n",
    "# ✅ Initialize YOLOv8 (Try loading custom weights first)\n",
    "try:\n",
    "    yolo_model = YOLO(\"runs/detect/train/weights/best.pt\")  # ✅ Replace with your path if different!\n",
    "    print(\"✅ Custom YOLOv8 bat/ball detector loaded successfully!\")\n",
    "except Exception as e:\n",
    "    print(f\"⚠️ Custom YOLO weights not found! Using default YOLOv8n weights.\\nError: {e}\")\n",
    "    yolo_model = YOLO(\"yolov8n.pt\")  # ✅ Use default weights if custom is missing\n",
    "\n",
    "# ✅ Collect Class Labels (Subfolder Names)\n",
    "class_labels = sorted([\n",
    "    folder for folder in os.listdir(DATASET_PATH)\n",
    "    if os.path.isdir(os.path.join(DATASET_PATH, folder))\n",
    "])\n",
    "\n",
    "# ✅ Display Dataset Info\n",
    "print(\"✅ Project Initialized!\")\n",
    "print(f\"✅ Shot Classes Detected: {class_labels}\")\n",
    "print(f\"✅ Frames per Sequence: {SEQUENCE_LENGTH}\")\n",
    "print(f\"✅ Features per Frame (Pose + Bat/Ball): {POSE_KEYPOINTS + EXTRA_FEATURES}\")\n"
   ]
  },
  {
   "cell_type": "code",
   "execution_count": 63,
   "metadata": {},
   "outputs": [],
   "source": [
    "# ✅ Feature Extraction Function (Pose + Bat/Ball + Speed + Angle)\n",
    "\n",
    "def extract_features(video_path, sequence_length=SEQUENCE_LENGTH, frame_interval=FRAME_INTERVAL):\n",
    "    \"\"\"\n",
    "    Extract features from a single video:\n",
    "    - Pose Keypoints (Mediapipe)\n",
    "    - Bat & Ball Detections (YOLOv8)\n",
    "    - Bat Speed, Bat Angle, Ball Speed\n",
    "    Returns a feature array of shape (1, sequence_length, feature_len)\n",
    "    \"\"\"\n",
    "\n",
    "    cap = cv2.VideoCapture(video_path)\n",
    "    features = []\n",
    "    frame_count = 0\n",
    "\n",
    "    prev_bat_center, prev_ball_center = None, None\n",
    "\n",
    "    print(f\"📹 Processing video: {video_path}\")\n",
    "\n",
    "    while cap.isOpened():\n",
    "        ret, frame = cap.read()\n",
    "        if not ret:\n",
    "            break\n",
    "\n",
    "        # Process every FRAME_INTERVAL frames\n",
    "        if frame_count % frame_interval == 0:\n",
    "            \n",
    "            # ✅ Mediapipe Pose\n",
    "            frame_rgb = cv2.cvtColor(frame, cv2.COLOR_BGR2RGB)\n",
    "            pose_results = pose.process(frame_rgb)\n",
    "\n",
    "            pose_keypoints = []\n",
    "            if pose_results.pose_landmarks:\n",
    "                for lm in pose_results.pose_landmarks.landmark:\n",
    "                    pose_keypoints.extend([lm.x, lm.y, lm.z])\n",
    "            else:\n",
    "                pose_keypoints = [0.0] * POSE_KEYPOINTS\n",
    "\n",
    "            # ✅ YOLOv8 Bat & Ball Detection\n",
    "            detections = yolo_model.predict(source=frame, conf=0.3, verbose=False)[0].boxes.data.cpu().numpy()\n",
    "\n",
    "            bat_center, ball_center = None, None\n",
    "            for det in detections:\n",
    "                x1, y1, x2, y2, conf, class_id = det\n",
    "                cx, cy = (x1 + x2) / 2, (y1 + y2) / 2\n",
    "                if int(class_id) == 0:  # Bat class\n",
    "                    bat_center = [cx, cy]\n",
    "                elif int(class_id) == 1:  # Ball class\n",
    "                    ball_center = [cx, cy]\n",
    "\n",
    "            # ✅ Calculate Bat Speed, Bat Angle, Ball Speed\n",
    "            bat_speed = np.linalg.norm(np.array(bat_center) - np.array(prev_bat_center)) if prev_bat_center and bat_center else 0.0\n",
    "            ball_speed = np.linalg.norm(np.array(ball_center) - np.array(prev_ball_center)) if prev_ball_center and ball_center else 0.0\n",
    "\n",
    "            # Bat Angle (relative to right wrist in pose landmarks)\n",
    "            try:\n",
    "                wrist_x = pose_keypoints[16 * 3]\n",
    "                wrist_y = pose_keypoints[16 * 3 + 1]\n",
    "                bat_angle = np.arctan2(bat_center[1] - wrist_y, bat_center[0] - wrist_x) if bat_center else 0.0\n",
    "            except:\n",
    "                bat_angle = 0.0\n",
    "\n",
    "            prev_bat_center, prev_ball_center = bat_center, ball_center\n",
    "\n",
    "            # ✅ Combine All Features into a Single Feature Vector for this Frame\n",
    "            bat_features = bat_center if bat_center else [0.0, 0.0]\n",
    "            ball_features = ball_center if ball_center else [0.0, 0.0]\n",
    "\n",
    "            frame_features = pose_keypoints + bat_features + [bat_speed, bat_angle] + ball_features + [ball_speed]\n",
    "            features.append(frame_features)\n",
    "\n",
    "        frame_count += 1\n",
    "\n",
    "        # ✅ Stop when enough frames are collected\n",
    "        if len(features) >= sequence_length:\n",
    "            break\n",
    "\n",
    "    cap.release()\n",
    "\n",
    "    if len(features) < sequence_length:\n",
    "        print(f\"⚠️ Not enough frames in: {video_path} (Collected: {len(features)})\")\n",
    "        return None\n",
    "\n",
    "    print(f\"✅ Feature extraction complete for: {video_path}\")\n",
    "    return np.array(features).reshape(1, sequence_length, -1)\n"
   ]
  },
  {
   "cell_type": "code",
   "execution_count": 64,
   "metadata": {},
   "outputs": [
    {
     "name": "stderr",
     "output_type": "stream",
     "text": [
      "📂 Processing Shot Classes:   0%|          | 0/5 [00:00<?, ?it/s]"
     ]
    },
    {
     "name": "stdout",
     "output_type": "stream",
     "text": [
      "\n",
      "📁 Class: Cover_Drive → 47 videos found.\n"
     ]
    },
    {
     "name": "stderr",
     "output_type": "stream",
     "text": []
    },
    {
     "name": "stdout",
     "output_type": "stream",
     "text": [
      "📹 Processing video: cricket_shot/Cover_Drive/IMG_2391.MOV\n"
     ]
    },
    {
     "name": "stderr",
     "output_type": "stream",
     "text": []
    },
    {
     "name": "stdout",
     "output_type": "stream",
     "text": [
      "✅ Feature extraction complete for: cricket_shot/Cover_Drive/IMG_2391.MOV\n",
      "📹 Processing video: cricket_shot/Cover_Drive/IMG_2385.MOV\n"
     ]
    },
    {
     "name": "stderr",
     "output_type": "stream",
     "text": []
    },
    {
     "name": "stdout",
     "output_type": "stream",
     "text": [
      "✅ Feature extraction complete for: cricket_shot/Cover_Drive/IMG_2385.MOV\n",
      "📹 Processing video: cricket_shot/Cover_Drive/IMG_2420.MOV\n"
     ]
    },
    {
     "name": "stderr",
     "output_type": "stream",
     "text": []
    },
    {
     "name": "stdout",
     "output_type": "stream",
     "text": [
      "✅ Feature extraction complete for: cricket_shot/Cover_Drive/IMG_2420.MOV\n",
      "📹 Processing video: cricket_shot/Cover_Drive/IMG_2421.MOV\n"
     ]
    },
    {
     "name": "stderr",
     "output_type": "stream",
     "text": []
    },
    {
     "name": "stdout",
     "output_type": "stream",
     "text": [
      "✅ Feature extraction complete for: cricket_shot/Cover_Drive/IMG_2421.MOV\n",
      "📹 Processing video: cricket_shot/Cover_Drive/IMG_2409.MOV\n"
     ]
    },
    {
     "name": "stderr",
     "output_type": "stream",
     "text": []
    },
    {
     "name": "stdout",
     "output_type": "stream",
     "text": [
      "✅ Feature extraction complete for: cricket_shot/Cover_Drive/IMG_2409.MOV\n",
      "📹 Processing video: cricket_shot/Cover_Drive/IMG_2384.MOV\n"
     ]
    },
    {
     "name": "stderr",
     "output_type": "stream",
     "text": []
    },
    {
     "name": "stdout",
     "output_type": "stream",
     "text": [
      "✅ Feature extraction complete for: cricket_shot/Cover_Drive/IMG_2384.MOV\n",
      "📹 Processing video: cricket_shot/Cover_Drive/IMG_2390.MOV\n"
     ]
    },
    {
     "name": "stderr",
     "output_type": "stream",
     "text": []
    },
    {
     "name": "stdout",
     "output_type": "stream",
     "text": [
      "✅ Feature extraction complete for: cricket_shot/Cover_Drive/IMG_2390.MOV\n",
      "📹 Processing video: cricket_shot/Cover_Drive/IMG_2386.MOV\n"
     ]
    },
    {
     "name": "stderr",
     "output_type": "stream",
     "text": []
    },
    {
     "name": "stdout",
     "output_type": "stream",
     "text": [
      "✅ Feature extraction complete for: cricket_shot/Cover_Drive/IMG_2386.MOV\n",
      "📹 Processing video: cricket_shot/Cover_Drive/IMG_2392.MOV\n"
     ]
    },
    {
     "name": "stderr",
     "output_type": "stream",
     "text": []
    },
    {
     "name": "stdout",
     "output_type": "stream",
     "text": [
      "✅ Feature extraction complete for: cricket_shot/Cover_Drive/IMG_2392.MOV\n",
      "📹 Processing video: cricket_shot/Cover_Drive/IMG_2423.MOV\n"
     ]
    },
    {
     "name": "stderr",
     "output_type": "stream",
     "text": []
    },
    {
     "name": "stdout",
     "output_type": "stream",
     "text": [
      "✅ Feature extraction complete for: cricket_shot/Cover_Drive/IMG_2423.MOV\n",
      "📹 Processing video: cricket_shot/Cover_Drive/IMG_2393.MOV\n"
     ]
    },
    {
     "name": "stderr",
     "output_type": "stream",
     "text": []
    },
    {
     "name": "stdout",
     "output_type": "stream",
     "text": [
      "✅ Feature extraction complete for: cricket_shot/Cover_Drive/IMG_2393.MOV\n",
      "📹 Processing video: cricket_shot/Cover_Drive/IMG_2387.MOV\n"
     ]
    },
    {
     "name": "stderr",
     "output_type": "stream",
     "text": []
    },
    {
     "name": "stdout",
     "output_type": "stream",
     "text": [
      "✅ Feature extraction complete for: cricket_shot/Cover_Drive/IMG_2387.MOV\n",
      "📹 Processing video: cricket_shot/Cover_Drive/IMG_2383.MOV\n"
     ]
    },
    {
     "name": "stderr",
     "output_type": "stream",
     "text": []
    },
    {
     "name": "stdout",
     "output_type": "stream",
     "text": [
      "✅ Feature extraction complete for: cricket_shot/Cover_Drive/IMG_2383.MOV\n",
      "📹 Processing video: cricket_shot/Cover_Drive/IMG_2397.MOV\n"
     ]
    },
    {
     "name": "stderr",
     "output_type": "stream",
     "text": []
    },
    {
     "name": "stdout",
     "output_type": "stream",
     "text": [
      "✅ Feature extraction complete for: cricket_shot/Cover_Drive/IMG_2397.MOV\n",
      "📹 Processing video: cricket_shot/Cover_Drive/IMG_2426.MOV\n"
     ]
    },
    {
     "name": "stderr",
     "output_type": "stream",
     "text": []
    },
    {
     "name": "stdout",
     "output_type": "stream",
     "text": [
      "✅ Feature extraction complete for: cricket_shot/Cover_Drive/IMG_2426.MOV\n",
      "📹 Processing video: cricket_shot/Cover_Drive/IMG_2427.MOV\n"
     ]
    },
    {
     "name": "stderr",
     "output_type": "stream",
     "text": []
    },
    {
     "name": "stdout",
     "output_type": "stream",
     "text": [
      "✅ Feature extraction complete for: cricket_shot/Cover_Drive/IMG_2427.MOV\n",
      "📹 Processing video: cricket_shot/Cover_Drive/IMG_2396.MOV\n"
     ]
    },
    {
     "name": "stderr",
     "output_type": "stream",
     "text": []
    },
    {
     "name": "stdout",
     "output_type": "stream",
     "text": [
      "✅ Feature extraction complete for: cricket_shot/Cover_Drive/IMG_2396.MOV\n",
      "📹 Processing video: cricket_shot/Cover_Drive/IMG_2394.MOV\n"
     ]
    },
    {
     "name": "stderr",
     "output_type": "stream",
     "text": []
    },
    {
     "name": "stdout",
     "output_type": "stream",
     "text": [
      "✅ Feature extraction complete for: cricket_shot/Cover_Drive/IMG_2394.MOV\n",
      "📹 Processing video: cricket_shot/Cover_Drive/IMG_2431.MOV\n"
     ]
    },
    {
     "name": "stderr",
     "output_type": "stream",
     "text": []
    },
    {
     "name": "stdout",
     "output_type": "stream",
     "text": [
      "✅ Feature extraction complete for: cricket_shot/Cover_Drive/IMG_2431.MOV\n",
      "📹 Processing video: cricket_shot/Cover_Drive/IMG_2425.MOV\n"
     ]
    },
    {
     "name": "stderr",
     "output_type": "stream",
     "text": []
    },
    {
     "name": "stdout",
     "output_type": "stream",
     "text": [
      "✅ Feature extraction complete for: cricket_shot/Cover_Drive/IMG_2425.MOV\n",
      "📹 Processing video: cricket_shot/Cover_Drive/IMG_2419.MOV\n"
     ]
    },
    {
     "name": "stderr",
     "output_type": "stream",
     "text": []
    },
    {
     "name": "stdout",
     "output_type": "stream",
     "text": [
      "✅ Feature extraction complete for: cricket_shot/Cover_Drive/IMG_2419.MOV\n",
      "📹 Processing video: cricket_shot/Cover_Drive/IMG_2418.MOV\n"
     ]
    },
    {
     "name": "stderr",
     "output_type": "stream",
     "text": []
    },
    {
     "name": "stdout",
     "output_type": "stream",
     "text": [
      "✅ Feature extraction complete for: cricket_shot/Cover_Drive/IMG_2418.MOV\n",
      "📹 Processing video: cricket_shot/Cover_Drive/IMG_2424.MOV\n"
     ]
    },
    {
     "name": "stderr",
     "output_type": "stream",
     "text": []
    },
    {
     "name": "stdout",
     "output_type": "stream",
     "text": [
      "✅ Feature extraction complete for: cricket_shot/Cover_Drive/IMG_2424.MOV\n",
      "📹 Processing video: cricket_shot/Cover_Drive/IMG_2430.MOV\n"
     ]
    },
    {
     "name": "stderr",
     "output_type": "stream",
     "text": []
    },
    {
     "name": "stdout",
     "output_type": "stream",
     "text": [
      "✅ Feature extraction complete for: cricket_shot/Cover_Drive/IMG_2430.MOV\n",
      "📹 Processing video: cricket_shot/Cover_Drive/IMG_2381.MOV\n"
     ]
    },
    {
     "name": "stderr",
     "output_type": "stream",
     "text": []
    },
    {
     "name": "stdout",
     "output_type": "stream",
     "text": [
      "✅ Feature extraction complete for: cricket_shot/Cover_Drive/IMG_2381.MOV\n",
      "📹 Processing video: cricket_shot/Cover_Drive/IMG_2395.MOV\n"
     ]
    },
    {
     "name": "stderr",
     "output_type": "stream",
     "text": []
    },
    {
     "name": "stdout",
     "output_type": "stream",
     "text": [
      "✅ Feature extraction complete for: cricket_shot/Cover_Drive/IMG_2395.MOV\n",
      "📹 Processing video: cricket_shot/Cover_Drive/IMG_2398.MOV\n"
     ]
    },
    {
     "name": "stderr",
     "output_type": "stream",
     "text": []
    },
    {
     "name": "stdout",
     "output_type": "stream",
     "text": [
      "✅ Feature extraction complete for: cricket_shot/Cover_Drive/IMG_2398.MOV\n",
      "📹 Processing video: cricket_shot/Cover_Drive/IMG_2429.MOV\n"
     ]
    },
    {
     "name": "stderr",
     "output_type": "stream",
     "text": []
    },
    {
     "name": "stdout",
     "output_type": "stream",
     "text": [
      "✅ Feature extraction complete for: cricket_shot/Cover_Drive/IMG_2429.MOV\n",
      "📹 Processing video: cricket_shot/Cover_Drive/IMG_2415.MOV\n"
     ]
    },
    {
     "name": "stderr",
     "output_type": "stream",
     "text": []
    },
    {
     "name": "stdout",
     "output_type": "stream",
     "text": [
      "✅ Feature extraction complete for: cricket_shot/Cover_Drive/IMG_2415.MOV\n",
      "📹 Processing video: cricket_shot/Cover_Drive/IMG_2401.MOV\n"
     ]
    },
    {
     "name": "stderr",
     "output_type": "stream",
     "text": []
    },
    {
     "name": "stdout",
     "output_type": "stream",
     "text": [
      "✅ Feature extraction complete for: cricket_shot/Cover_Drive/IMG_2401.MOV\n",
      "📹 Processing video: cricket_shot/Cover_Drive/IMG_2400.MOV\n"
     ]
    },
    {
     "name": "stderr",
     "output_type": "stream",
     "text": []
    },
    {
     "name": "stdout",
     "output_type": "stream",
     "text": [
      "✅ Feature extraction complete for: cricket_shot/Cover_Drive/IMG_2400.MOV\n",
      "📹 Processing video: cricket_shot/Cover_Drive/IMG_2414.MOV\n"
     ]
    },
    {
     "name": "stderr",
     "output_type": "stream",
     "text": []
    },
    {
     "name": "stdout",
     "output_type": "stream",
     "text": [
      "✅ Feature extraction complete for: cricket_shot/Cover_Drive/IMG_2414.MOV\n",
      "📹 Processing video: cricket_shot/Cover_Drive/IMG_2428.MOV\n"
     ]
    },
    {
     "name": "stderr",
     "output_type": "stream",
     "text": []
    },
    {
     "name": "stdout",
     "output_type": "stream",
     "text": [
      "✅ Feature extraction complete for: cricket_shot/Cover_Drive/IMG_2428.MOV\n",
      "📹 Processing video: cricket_shot/Cover_Drive/IMG_2399.MOV\n"
     ]
    },
    {
     "name": "stderr",
     "output_type": "stream",
     "text": []
    },
    {
     "name": "stdout",
     "output_type": "stream",
     "text": [
      "✅ Feature extraction complete for: cricket_shot/Cover_Drive/IMG_2399.MOV\n",
      "📹 Processing video: cricket_shot/Cover_Drive/IMG_2402.MOV\n"
     ]
    },
    {
     "name": "stderr",
     "output_type": "stream",
     "text": []
    },
    {
     "name": "stdout",
     "output_type": "stream",
     "text": [
      "✅ Feature extraction complete for: cricket_shot/Cover_Drive/IMG_2402.MOV\n",
      "📹 Processing video: cricket_shot/Cover_Drive/IMG_2416.MOV\n"
     ]
    },
    {
     "name": "stderr",
     "output_type": "stream",
     "text": []
    },
    {
     "name": "stdout",
     "output_type": "stream",
     "text": [
      "✅ Feature extraction complete for: cricket_shot/Cover_Drive/IMG_2416.MOV\n",
      "📹 Processing video: cricket_shot/Cover_Drive/IMG_2417.MOV\n"
     ]
    },
    {
     "name": "stderr",
     "output_type": "stream",
     "text": []
    },
    {
     "name": "stdout",
     "output_type": "stream",
     "text": [
      "✅ Feature extraction complete for: cricket_shot/Cover_Drive/IMG_2417.MOV\n",
      "📹 Processing video: cricket_shot/Cover_Drive/IMG_2403.MOV\n"
     ]
    },
    {
     "name": "stderr",
     "output_type": "stream",
     "text": []
    },
    {
     "name": "stdout",
     "output_type": "stream",
     "text": [
      "✅ Feature extraction complete for: cricket_shot/Cover_Drive/IMG_2403.MOV\n",
      "📹 Processing video: cricket_shot/Cover_Drive/IMG_2407.MOV\n"
     ]
    },
    {
     "name": "stderr",
     "output_type": "stream",
     "text": []
    },
    {
     "name": "stdout",
     "output_type": "stream",
     "text": [
      "✅ Feature extraction complete for: cricket_shot/Cover_Drive/IMG_2407.MOV\n",
      "📹 Processing video: cricket_shot/Cover_Drive/IMG_2413.MOV\n"
     ]
    },
    {
     "name": "stderr",
     "output_type": "stream",
     "text": []
    },
    {
     "name": "stdout",
     "output_type": "stream",
     "text": [
      "✅ Feature extraction complete for: cricket_shot/Cover_Drive/IMG_2413.MOV\n",
      "📹 Processing video: cricket_shot/Cover_Drive/IMG_2412.MOV\n"
     ]
    },
    {
     "name": "stderr",
     "output_type": "stream",
     "text": []
    },
    {
     "name": "stdout",
     "output_type": "stream",
     "text": [
      "✅ Feature extraction complete for: cricket_shot/Cover_Drive/IMG_2412.MOV\n",
      "📹 Processing video: cricket_shot/Cover_Drive/IMG_2406.MOV\n"
     ]
    },
    {
     "name": "stderr",
     "output_type": "stream",
     "text": []
    },
    {
     "name": "stdout",
     "output_type": "stream",
     "text": [
      "✅ Feature extraction complete for: cricket_shot/Cover_Drive/IMG_2406.MOV\n",
      "📹 Processing video: cricket_shot/Cover_Drive/IMG_2389.MOV\n"
     ]
    },
    {
     "name": "stderr",
     "output_type": "stream",
     "text": []
    },
    {
     "name": "stdout",
     "output_type": "stream",
     "text": [
      "✅ Feature extraction complete for: cricket_shot/Cover_Drive/IMG_2389.MOV\n",
      "📹 Processing video: cricket_shot/Cover_Drive/IMG_2410.MOV\n"
     ]
    },
    {
     "name": "stderr",
     "output_type": "stream",
     "text": []
    },
    {
     "name": "stdout",
     "output_type": "stream",
     "text": [
      "✅ Feature extraction complete for: cricket_shot/Cover_Drive/IMG_2410.MOV\n",
      "📹 Processing video: cricket_shot/Cover_Drive/IMG_2405.MOV\n"
     ]
    },
    {
     "name": "stderr",
     "output_type": "stream",
     "text": []
    },
    {
     "name": "stdout",
     "output_type": "stream",
     "text": [
      "✅ Feature extraction complete for: cricket_shot/Cover_Drive/IMG_2405.MOV\n",
      "📹 Processing video: cricket_shot/Cover_Drive/IMG_2411.MOV\n"
     ]
    },
    {
     "name": "stderr",
     "output_type": "stream",
     "text": []
    },
    {
     "name": "stdout",
     "output_type": "stream",
     "text": [
      "✅ Feature extraction complete for: cricket_shot/Cover_Drive/IMG_2411.MOV\n",
      "📹 Processing video: cricket_shot/Cover_Drive/IMG_2388.MOV\n"
     ]
    },
    {
     "name": "stderr",
     "output_type": "stream",
     "text": [
      "🔎 Extracting features for Cover_Drive: 100%|██████████| 47/47 [05:38<00:00,  7.21s/it]\n",
      "📂 Processing Shot Classes:  20%|██        | 1/5 [05:38<22:35, 338.83s/it]"
     ]
    },
    {
     "name": "stdout",
     "output_type": "stream",
     "text": [
      "✅ Feature extraction complete for: cricket_shot/Cover_Drive/IMG_2388.MOV\n",
      "\n",
      "📁 Class: Cut_shot → 41 videos found.\n"
     ]
    },
    {
     "name": "stderr",
     "output_type": "stream",
     "text": []
    },
    {
     "name": "stdout",
     "output_type": "stream",
     "text": [
      "📹 Processing video: cricket_shot/Cut_shot/IMG_2523.MOV\n"
     ]
    },
    {
     "name": "stderr",
     "output_type": "stream",
     "text": []
    },
    {
     "name": "stdout",
     "output_type": "stream",
     "text": [
      "✅ Feature extraction complete for: cricket_shot/Cut_shot/IMG_2523.MOV\n",
      "📹 Processing video: cricket_shot/Cut_shot/IMG_2537.MOV\n"
     ]
    },
    {
     "name": "stderr",
     "output_type": "stream",
     "text": []
    },
    {
     "name": "stdout",
     "output_type": "stream",
     "text": [
      "✅ Feature extraction complete for: cricket_shot/Cut_shot/IMG_2537.MOV\n",
      "📹 Processing video: cricket_shot/Cut_shot/IMG_2536.MOV\n"
     ]
    },
    {
     "name": "stderr",
     "output_type": "stream",
     "text": []
    },
    {
     "name": "stdout",
     "output_type": "stream",
     "text": [
      "✅ Feature extraction complete for: cricket_shot/Cut_shot/IMG_2536.MOV\n",
      "📹 Processing video: cricket_shot/Cut_shot/IMG_2522.MOV\n"
     ]
    },
    {
     "name": "stderr",
     "output_type": "stream",
     "text": []
    },
    {
     "name": "stdout",
     "output_type": "stream",
     "text": [
      "✅ Feature extraction complete for: cricket_shot/Cut_shot/IMG_2522.MOV\n",
      "📹 Processing video: cricket_shot/Cut_shot/IMG_2534.MOV\n"
     ]
    },
    {
     "name": "stderr",
     "output_type": "stream",
     "text": []
    },
    {
     "name": "stdout",
     "output_type": "stream",
     "text": [
      "✅ Feature extraction complete for: cricket_shot/Cut_shot/IMG_2534.MOV\n",
      "📹 Processing video: cricket_shot/Cut_shot/IMG_2535.MOV\n"
     ]
    },
    {
     "name": "stderr",
     "output_type": "stream",
     "text": []
    },
    {
     "name": "stdout",
     "output_type": "stream",
     "text": [
      "✅ Feature extraction complete for: cricket_shot/Cut_shot/IMG_2535.MOV\n",
      "📹 Processing video: cricket_shot/Cut_shot/IMG_2531.MOV\n"
     ]
    },
    {
     "name": "stderr",
     "output_type": "stream",
     "text": []
    },
    {
     "name": "stdout",
     "output_type": "stream",
     "text": [
      "✅ Feature extraction complete for: cricket_shot/Cut_shot/IMG_2531.MOV\n",
      "📹 Processing video: cricket_shot/Cut_shot/IMG_2525.MOV\n"
     ]
    },
    {
     "name": "stderr",
     "output_type": "stream",
     "text": []
    },
    {
     "name": "stdout",
     "output_type": "stream",
     "text": [
      "✅ Feature extraction complete for: cricket_shot/Cut_shot/IMG_2525.MOV\n",
      "📹 Processing video: cricket_shot/Cut_shot/IMG_2524.MOV\n"
     ]
    },
    {
     "name": "stderr",
     "output_type": "stream",
     "text": []
    },
    {
     "name": "stdout",
     "output_type": "stream",
     "text": [
      "✅ Feature extraction complete for: cricket_shot/Cut_shot/IMG_2524.MOV\n",
      "📹 Processing video: cricket_shot/Cut_shot/IMG_2530.MOV\n"
     ]
    },
    {
     "name": "stderr",
     "output_type": "stream",
     "text": []
    },
    {
     "name": "stdout",
     "output_type": "stream",
     "text": [
      "✅ Feature extraction complete for: cricket_shot/Cut_shot/IMG_2530.MOV\n",
      "📹 Processing video: cricket_shot/Cut_shot/IMG_2526.MOV\n"
     ]
    },
    {
     "name": "stderr",
     "output_type": "stream",
     "text": []
    },
    {
     "name": "stdout",
     "output_type": "stream",
     "text": [
      "✅ Feature extraction complete for: cricket_shot/Cut_shot/IMG_2526.MOV\n",
      "📹 Processing video: cricket_shot/Cut_shot/IMG_2532.MOV\n"
     ]
    },
    {
     "name": "stderr",
     "output_type": "stream",
     "text": []
    },
    {
     "name": "stdout",
     "output_type": "stream",
     "text": [
      "✅ Feature extraction complete for: cricket_shot/Cut_shot/IMG_2532.MOV\n",
      "📹 Processing video: cricket_shot/Cut_shot/IMG_2533.MOV\n"
     ]
    },
    {
     "name": "stderr",
     "output_type": "stream",
     "text": []
    },
    {
     "name": "stdout",
     "output_type": "stream",
     "text": [
      "✅ Feature extraction complete for: cricket_shot/Cut_shot/IMG_2533.MOV\n",
      "📹 Processing video: cricket_shot/Cut_shot/IMG_2527.MOV\n"
     ]
    },
    {
     "name": "stderr",
     "output_type": "stream",
     "text": []
    },
    {
     "name": "stdout",
     "output_type": "stream",
     "text": [
      "✅ Feature extraction complete for: cricket_shot/Cut_shot/IMG_2527.MOV\n",
      "📹 Processing video: cricket_shot/Cut_shot/IMG_2540.MOV\n"
     ]
    },
    {
     "name": "stderr",
     "output_type": "stream",
     "text": []
    },
    {
     "name": "stdout",
     "output_type": "stream",
     "text": [
      "✅ Feature extraction complete for: cricket_shot/Cut_shot/IMG_2540.MOV\n",
      "📹 Processing video: cricket_shot/Cut_shot/IMG_2554.MOV\n"
     ]
    },
    {
     "name": "stderr",
     "output_type": "stream",
     "text": []
    },
    {
     "name": "stdout",
     "output_type": "stream",
     "text": [
      "✅ Feature extraction complete for: cricket_shot/Cut_shot/IMG_2554.MOV\n",
      "📹 Processing video: cricket_shot/Cut_shot/IMG_2555.MOV\n"
     ]
    },
    {
     "name": "stderr",
     "output_type": "stream",
     "text": []
    },
    {
     "name": "stdout",
     "output_type": "stream",
     "text": [
      "✅ Feature extraction complete for: cricket_shot/Cut_shot/IMG_2555.MOV\n",
      "📹 Processing video: cricket_shot/Cut_shot/IMG_2541.MOV\n"
     ]
    },
    {
     "name": "stderr",
     "output_type": "stream",
     "text": []
    },
    {
     "name": "stdout",
     "output_type": "stream",
     "text": [
      "✅ Feature extraction complete for: cricket_shot/Cut_shot/IMG_2541.MOV\n",
      "📹 Processing video: cricket_shot/Cut_shot/IMG_2557.MOV\n"
     ]
    },
    {
     "name": "stderr",
     "output_type": "stream",
     "text": []
    },
    {
     "name": "stdout",
     "output_type": "stream",
     "text": [
      "✅ Feature extraction complete for: cricket_shot/Cut_shot/IMG_2557.MOV\n",
      "📹 Processing video: cricket_shot/Cut_shot/IMG_2543.MOV\n"
     ]
    },
    {
     "name": "stderr",
     "output_type": "stream",
     "text": []
    },
    {
     "name": "stdout",
     "output_type": "stream",
     "text": [
      "✅ Feature extraction complete for: cricket_shot/Cut_shot/IMG_2543.MOV\n",
      "📹 Processing video: cricket_shot/Cut_shot/IMG_2542.MOV\n"
     ]
    },
    {
     "name": "stderr",
     "output_type": "stream",
     "text": []
    },
    {
     "name": "stdout",
     "output_type": "stream",
     "text": [
      "✅ Feature extraction complete for: cricket_shot/Cut_shot/IMG_2542.MOV\n",
      "📹 Processing video: cricket_shot/Cut_shot/IMG_2556.MOV\n"
     ]
    },
    {
     "name": "stderr",
     "output_type": "stream",
     "text": []
    },
    {
     "name": "stdout",
     "output_type": "stream",
     "text": [
      "✅ Feature extraction complete for: cricket_shot/Cut_shot/IMG_2556.MOV\n",
      "📹 Processing video: cricket_shot/Cut_shot/IMG_2552.MOV\n"
     ]
    },
    {
     "name": "stderr",
     "output_type": "stream",
     "text": []
    },
    {
     "name": "stdout",
     "output_type": "stream",
     "text": [
      "✅ Feature extraction complete for: cricket_shot/Cut_shot/IMG_2552.MOV\n",
      "📹 Processing video: cricket_shot/Cut_shot/IMG_2546.MOV\n"
     ]
    },
    {
     "name": "stderr",
     "output_type": "stream",
     "text": []
    },
    {
     "name": "stdout",
     "output_type": "stream",
     "text": [
      "✅ Feature extraction complete for: cricket_shot/Cut_shot/IMG_2546.MOV\n",
      "📹 Processing video: cricket_shot/Cut_shot/IMG_2547.MOV\n"
     ]
    },
    {
     "name": "stderr",
     "output_type": "stream",
     "text": []
    },
    {
     "name": "stdout",
     "output_type": "stream",
     "text": [
      "✅ Feature extraction complete for: cricket_shot/Cut_shot/IMG_2547.MOV\n",
      "📹 Processing video: cricket_shot/Cut_shot/IMG_2553.MOV\n"
     ]
    },
    {
     "name": "stderr",
     "output_type": "stream",
     "text": []
    },
    {
     "name": "stdout",
     "output_type": "stream",
     "text": [
      "✅ Feature extraction complete for: cricket_shot/Cut_shot/IMG_2553.MOV\n",
      "📹 Processing video: cricket_shot/Cut_shot/IMG_2545.MOV\n"
     ]
    },
    {
     "name": "stderr",
     "output_type": "stream",
     "text": []
    },
    {
     "name": "stdout",
     "output_type": "stream",
     "text": [
      "✅ Feature extraction complete for: cricket_shot/Cut_shot/IMG_2545.MOV\n",
      "📹 Processing video: cricket_shot/Cut_shot/IMG_2551.MOV\n"
     ]
    },
    {
     "name": "stderr",
     "output_type": "stream",
     "text": []
    },
    {
     "name": "stdout",
     "output_type": "stream",
     "text": [
      "✅ Feature extraction complete for: cricket_shot/Cut_shot/IMG_2551.MOV\n",
      "📹 Processing video: cricket_shot/Cut_shot/IMG_2550.MOV\n"
     ]
    },
    {
     "name": "stderr",
     "output_type": "stream",
     "text": []
    },
    {
     "name": "stdout",
     "output_type": "stream",
     "text": [
      "✅ Feature extraction complete for: cricket_shot/Cut_shot/IMG_2550.MOV\n",
      "📹 Processing video: cricket_shot/Cut_shot/IMG_2544.MOV\n"
     ]
    },
    {
     "name": "stderr",
     "output_type": "stream",
     "text": []
    },
    {
     "name": "stdout",
     "output_type": "stream",
     "text": [
      "✅ Feature extraction complete for: cricket_shot/Cut_shot/IMG_2544.MOV\n",
      "📹 Processing video: cricket_shot/Cut_shot/IMG_2549.MOV\n"
     ]
    },
    {
     "name": "stderr",
     "output_type": "stream",
     "text": []
    },
    {
     "name": "stdout",
     "output_type": "stream",
     "text": [
      "✅ Feature extraction complete for: cricket_shot/Cut_shot/IMG_2549.MOV\n",
      "📹 Processing video: cricket_shot/Cut_shot/IMG_2561.MOV\n"
     ]
    },
    {
     "name": "stderr",
     "output_type": "stream",
     "text": []
    },
    {
     "name": "stdout",
     "output_type": "stream",
     "text": [
      "✅ Feature extraction complete for: cricket_shot/Cut_shot/IMG_2561.MOV\n",
      "📹 Processing video: cricket_shot/Cut_shot/IMG_2560.MOV\n"
     ]
    },
    {
     "name": "stderr",
     "output_type": "stream",
     "text": []
    },
    {
     "name": "stdout",
     "output_type": "stream",
     "text": [
      "✅ Feature extraction complete for: cricket_shot/Cut_shot/IMG_2560.MOV\n",
      "📹 Processing video: cricket_shot/Cut_shot/IMG_2548.MOV\n"
     ]
    },
    {
     "name": "stderr",
     "output_type": "stream",
     "text": []
    },
    {
     "name": "stdout",
     "output_type": "stream",
     "text": [
      "✅ Feature extraction complete for: cricket_shot/Cut_shot/IMG_2548.MOV\n",
      "📹 Processing video: cricket_shot/Cut_shot/IMG_2562.MOV\n"
     ]
    },
    {
     "name": "stderr",
     "output_type": "stream",
     "text": []
    },
    {
     "name": "stdout",
     "output_type": "stream",
     "text": [
      "✅ Feature extraction complete for: cricket_shot/Cut_shot/IMG_2562.MOV\n",
      "📹 Processing video: cricket_shot/Cut_shot/IMG_2558.MOV\n"
     ]
    },
    {
     "name": "stderr",
     "output_type": "stream",
     "text": []
    },
    {
     "name": "stdout",
     "output_type": "stream",
     "text": [
      "✅ Feature extraction complete for: cricket_shot/Cut_shot/IMG_2558.MOV\n",
      "📹 Processing video: cricket_shot/Cut_shot/IMG_2559.MOV\n"
     ]
    },
    {
     "name": "stderr",
     "output_type": "stream",
     "text": []
    },
    {
     "name": "stdout",
     "output_type": "stream",
     "text": [
      "✅ Feature extraction complete for: cricket_shot/Cut_shot/IMG_2559.MOV\n",
      "📹 Processing video: cricket_shot/Cut_shot/IMG_2529.MOV\n"
     ]
    },
    {
     "name": "stderr",
     "output_type": "stream",
     "text": []
    },
    {
     "name": "stdout",
     "output_type": "stream",
     "text": [
      "✅ Feature extraction complete for: cricket_shot/Cut_shot/IMG_2529.MOV\n",
      "📹 Processing video: cricket_shot/Cut_shot/IMG_2528.MOV\n"
     ]
    },
    {
     "name": "stderr",
     "output_type": "stream",
     "text": []
    },
    {
     "name": "stdout",
     "output_type": "stream",
     "text": [
      "✅ Feature extraction complete for: cricket_shot/Cut_shot/IMG_2528.MOV\n",
      "📹 Processing video: cricket_shot/Cut_shot/IMG_2538.MOV\n"
     ]
    },
    {
     "name": "stderr",
     "output_type": "stream",
     "text": []
    },
    {
     "name": "stdout",
     "output_type": "stream",
     "text": [
      "✅ Feature extraction complete for: cricket_shot/Cut_shot/IMG_2538.MOV\n",
      "📹 Processing video: cricket_shot/Cut_shot/IMG_2539.MOV\n"
     ]
    },
    {
     "name": "stderr",
     "output_type": "stream",
     "text": [
      "🔎 Extracting features for Cut_shot: 100%|██████████| 41/41 [04:50<00:00,  7.09s/it]\n",
      "📂 Processing Shot Classes:  40%|████      | 2/5 [10:29<15:31, 310.41s/it]"
     ]
    },
    {
     "name": "stdout",
     "output_type": "stream",
     "text": [
      "✅ Feature extraction complete for: cricket_shot/Cut_shot/IMG_2539.MOV\n",
      "\n",
      "📁 Class: Defence → 42 videos found.\n"
     ]
    },
    {
     "name": "stderr",
     "output_type": "stream",
     "text": []
    },
    {
     "name": "stdout",
     "output_type": "stream",
     "text": [
      "📹 Processing video: cricket_shot/Defence/IMG_2457.MOV\n"
     ]
    },
    {
     "name": "stderr",
     "output_type": "stream",
     "text": []
    },
    {
     "name": "stdout",
     "output_type": "stream",
     "text": [
      "✅ Feature extraction complete for: cricket_shot/Defence/IMG_2457.MOV\n",
      "📹 Processing video: cricket_shot/Defence/IMG_2443.MOV\n"
     ]
    },
    {
     "name": "stderr",
     "output_type": "stream",
     "text": []
    },
    {
     "name": "stdout",
     "output_type": "stream",
     "text": [
      "✅ Feature extraction complete for: cricket_shot/Defence/IMG_2443.MOV\n",
      "📹 Processing video: cricket_shot/Defence/IMG_2442.MOV\n"
     ]
    },
    {
     "name": "stderr",
     "output_type": "stream",
     "text": []
    },
    {
     "name": "stdout",
     "output_type": "stream",
     "text": [
      "✅ Feature extraction complete for: cricket_shot/Defence/IMG_2442.MOV\n",
      "📹 Processing video: cricket_shot/Defence/IMG_2456.MOV\n"
     ]
    },
    {
     "name": "stderr",
     "output_type": "stream",
     "text": []
    },
    {
     "name": "stdout",
     "output_type": "stream",
     "text": [
      "✅ Feature extraction complete for: cricket_shot/Defence/IMG_2456.MOV\n",
      "📹 Processing video: cricket_shot/Defence/IMG_2468.MOV\n"
     ]
    },
    {
     "name": "stderr",
     "output_type": "stream",
     "text": []
    },
    {
     "name": "stdout",
     "output_type": "stream",
     "text": [
      "✅ Feature extraction complete for: cricket_shot/Defence/IMG_2468.MOV\n",
      "📹 Processing video: cricket_shot/Defence/IMG_2440.MOV\n"
     ]
    },
    {
     "name": "stderr",
     "output_type": "stream",
     "text": []
    },
    {
     "name": "stdout",
     "output_type": "stream",
     "text": [
      "✅ Feature extraction complete for: cricket_shot/Defence/IMG_2440.MOV\n",
      "📹 Processing video: cricket_shot/Defence/IMG_2454.MOV\n"
     ]
    },
    {
     "name": "stderr",
     "output_type": "stream",
     "text": []
    },
    {
     "name": "stdout",
     "output_type": "stream",
     "text": [
      "✅ Feature extraction complete for: cricket_shot/Defence/IMG_2454.MOV\n",
      "📹 Processing video: cricket_shot/Defence/IMG_2455.MOV\n"
     ]
    },
    {
     "name": "stderr",
     "output_type": "stream",
     "text": []
    },
    {
     "name": "stdout",
     "output_type": "stream",
     "text": [
      "✅ Feature extraction complete for: cricket_shot/Defence/IMG_2455.MOV\n",
      "📹 Processing video: cricket_shot/Defence/IMG_2441.MOV\n"
     ]
    },
    {
     "name": "stderr",
     "output_type": "stream",
     "text": []
    },
    {
     "name": "stdout",
     "output_type": "stream",
     "text": [
      "✅ Feature extraction complete for: cricket_shot/Defence/IMG_2441.MOV\n",
      "📹 Processing video: cricket_shot/Defence/IMG_2469.MOV\n"
     ]
    },
    {
     "name": "stderr",
     "output_type": "stream",
     "text": []
    },
    {
     "name": "stdout",
     "output_type": "stream",
     "text": [
      "✅ Feature extraction complete for: cricket_shot/Defence/IMG_2469.MOV\n",
      "📹 Processing video: cricket_shot/Defence/IMG_2451.MOV\n"
     ]
    },
    {
     "name": "stderr",
     "output_type": "stream",
     "text": []
    },
    {
     "name": "stdout",
     "output_type": "stream",
     "text": [
      "✅ Feature extraction complete for: cricket_shot/Defence/IMG_2451.MOV\n",
      "📹 Processing video: cricket_shot/Defence/IMG_2450.MOV\n"
     ]
    },
    {
     "name": "stderr",
     "output_type": "stream",
     "text": []
    },
    {
     "name": "stdout",
     "output_type": "stream",
     "text": [
      "✅ Feature extraction complete for: cricket_shot/Defence/IMG_2450.MOV\n",
      "📹 Processing video: cricket_shot/Defence/IMG_2444.MOV\n"
     ]
    },
    {
     "name": "stderr",
     "output_type": "stream",
     "text": []
    },
    {
     "name": "stdout",
     "output_type": "stream",
     "text": [
      "✅ Feature extraction complete for: cricket_shot/Defence/IMG_2444.MOV\n",
      "📹 Processing video: cricket_shot/Defence/IMG_2452.MOV\n"
     ]
    },
    {
     "name": "stderr",
     "output_type": "stream",
     "text": []
    },
    {
     "name": "stdout",
     "output_type": "stream",
     "text": [
      "✅ Feature extraction complete for: cricket_shot/Defence/IMG_2452.MOV\n",
      "📹 Processing video: cricket_shot/Defence/IMG_2446.MOV\n"
     ]
    },
    {
     "name": "stderr",
     "output_type": "stream",
     "text": []
    },
    {
     "name": "stdout",
     "output_type": "stream",
     "text": [
      "✅ Feature extraction complete for: cricket_shot/Defence/IMG_2446.MOV\n",
      "📹 Processing video: cricket_shot/Defence/IMG_2447.MOV\n"
     ]
    },
    {
     "name": "stderr",
     "output_type": "stream",
     "text": []
    },
    {
     "name": "stdout",
     "output_type": "stream",
     "text": [
      "✅ Feature extraction complete for: cricket_shot/Defence/IMG_2447.MOV\n",
      "📹 Processing video: cricket_shot/Defence/IMG_2453.MOV\n"
     ]
    },
    {
     "name": "stderr",
     "output_type": "stream",
     "text": []
    },
    {
     "name": "stdout",
     "output_type": "stream",
     "text": [
      "✅ Feature extraction complete for: cricket_shot/Defence/IMG_2453.MOV\n",
      "📹 Processing video: cricket_shot/Defence/IMG_2434.MOV\n"
     ]
    },
    {
     "name": "stderr",
     "output_type": "stream",
     "text": []
    },
    {
     "name": "stdout",
     "output_type": "stream",
     "text": [
      "✅ Feature extraction complete for: cricket_shot/Defence/IMG_2434.MOV\n",
      "📹 Processing video: cricket_shot/Defence/IMG_2435.MOV\n"
     ]
    },
    {
     "name": "stderr",
     "output_type": "stream",
     "text": []
    },
    {
     "name": "stdout",
     "output_type": "stream",
     "text": [
      "✅ Feature extraction complete for: cricket_shot/Defence/IMG_2435.MOV\n",
      "📹 Processing video: cricket_shot/Defence/IMG_2437.MOV\n"
     ]
    },
    {
     "name": "stderr",
     "output_type": "stream",
     "text": []
    },
    {
     "name": "stdout",
     "output_type": "stream",
     "text": [
      "✅ Feature extraction complete for: cricket_shot/Defence/IMG_2437.MOV\n",
      "📹 Processing video: cricket_shot/Defence/IMG_2436.MOV\n"
     ]
    },
    {
     "name": "stderr",
     "output_type": "stream",
     "text": []
    },
    {
     "name": "stdout",
     "output_type": "stream",
     "text": [
      "✅ Feature extraction complete for: cricket_shot/Defence/IMG_2436.MOV\n",
      "📹 Processing video: cricket_shot/Defence/IMG_2432.MOV\n"
     ]
    },
    {
     "name": "stderr",
     "output_type": "stream",
     "text": []
    },
    {
     "name": "stdout",
     "output_type": "stream",
     "text": [
      "✅ Feature extraction complete for: cricket_shot/Defence/IMG_2432.MOV\n",
      "📹 Processing video: cricket_shot/Defence/IMG_2433.MOV\n"
     ]
    },
    {
     "name": "stderr",
     "output_type": "stream",
     "text": []
    },
    {
     "name": "stdout",
     "output_type": "stream",
     "text": [
      "✅ Feature extraction complete for: cricket_shot/Defence/IMG_2433.MOV\n",
      "📹 Processing video: cricket_shot/Defence/IMG_2438.MOV\n"
     ]
    },
    {
     "name": "stderr",
     "output_type": "stream",
     "text": []
    },
    {
     "name": "stdout",
     "output_type": "stream",
     "text": [
      "⚠️ Not enough frames in: cricket_shot/Defence/IMG_2438.MOV (Collected: 50)\n",
      "⚠️ Skipped IMG_2438.MOV (Not enough frames or extraction error).\n",
      "📹 Processing video: cricket_shot/Defence/IMG_2439.MOV\n"
     ]
    },
    {
     "name": "stderr",
     "output_type": "stream",
     "text": []
    },
    {
     "name": "stdout",
     "output_type": "stream",
     "text": [
      "✅ Feature extraction complete for: cricket_shot/Defence/IMG_2439.MOV\n",
      "📹 Processing video: cricket_shot/Defence/IMG_2462.MOV\n"
     ]
    },
    {
     "name": "stderr",
     "output_type": "stream",
     "text": []
    },
    {
     "name": "stdout",
     "output_type": "stream",
     "text": [
      "✅ Feature extraction complete for: cricket_shot/Defence/IMG_2462.MOV\n",
      "📹 Processing video: cricket_shot/Defence/IMG_2463.MOV\n"
     ]
    },
    {
     "name": "stderr",
     "output_type": "stream",
     "text": []
    },
    {
     "name": "stdout",
     "output_type": "stream",
     "text": [
      "✅ Feature extraction complete for: cricket_shot/Defence/IMG_2463.MOV\n",
      "📹 Processing video: cricket_shot/Defence/IMG_2449.MOV\n"
     ]
    },
    {
     "name": "stderr",
     "output_type": "stream",
     "text": []
    },
    {
     "name": "stdout",
     "output_type": "stream",
     "text": [
      "✅ Feature extraction complete for: cricket_shot/Defence/IMG_2449.MOV\n",
      "📹 Processing video: cricket_shot/Defence/IMG_2461.MOV\n"
     ]
    },
    {
     "name": "stderr",
     "output_type": "stream",
     "text": []
    },
    {
     "name": "stdout",
     "output_type": "stream",
     "text": [
      "✅ Feature extraction complete for: cricket_shot/Defence/IMG_2461.MOV\n",
      "📹 Processing video: cricket_shot/Defence/IMG_2474.MOV\n"
     ]
    },
    {
     "name": "stderr",
     "output_type": "stream",
     "text": []
    },
    {
     "name": "stdout",
     "output_type": "stream",
     "text": [
      "✅ Feature extraction complete for: cricket_shot/Defence/IMG_2474.MOV\n",
      "📹 Processing video: cricket_shot/Defence/IMG_2460.MOV\n"
     ]
    },
    {
     "name": "stderr",
     "output_type": "stream",
     "text": []
    },
    {
     "name": "stdout",
     "output_type": "stream",
     "text": [
      "✅ Feature extraction complete for: cricket_shot/Defence/IMG_2460.MOV\n",
      "📹 Processing video: cricket_shot/Defence/IMG_2448.MOV\n"
     ]
    },
    {
     "name": "stderr",
     "output_type": "stream",
     "text": []
    },
    {
     "name": "stdout",
     "output_type": "stream",
     "text": [
      "✅ Feature extraction complete for: cricket_shot/Defence/IMG_2448.MOV\n",
      "📹 Processing video: cricket_shot/Defence/IMG_2464.MOV\n"
     ]
    },
    {
     "name": "stderr",
     "output_type": "stream",
     "text": []
    },
    {
     "name": "stdout",
     "output_type": "stream",
     "text": [
      "✅ Feature extraction complete for: cricket_shot/Defence/IMG_2464.MOV\n",
      "📹 Processing video: cricket_shot/Defence/IMG_2470.MOV\n"
     ]
    },
    {
     "name": "stderr",
     "output_type": "stream",
     "text": []
    },
    {
     "name": "stdout",
     "output_type": "stream",
     "text": [
      "✅ Feature extraction complete for: cricket_shot/Defence/IMG_2470.MOV\n",
      "📹 Processing video: cricket_shot/Defence/IMG_2458.MOV\n"
     ]
    },
    {
     "name": "stderr",
     "output_type": "stream",
     "text": []
    },
    {
     "name": "stdout",
     "output_type": "stream",
     "text": [
      "✅ Feature extraction complete for: cricket_shot/Defence/IMG_2458.MOV\n",
      "📹 Processing video: cricket_shot/Defence/IMG_2459.MOV\n"
     ]
    },
    {
     "name": "stderr",
     "output_type": "stream",
     "text": []
    },
    {
     "name": "stdout",
     "output_type": "stream",
     "text": [
      "✅ Feature extraction complete for: cricket_shot/Defence/IMG_2459.MOV\n",
      "📹 Processing video: cricket_shot/Defence/IMG_2471.MOV\n"
     ]
    },
    {
     "name": "stderr",
     "output_type": "stream",
     "text": []
    },
    {
     "name": "stdout",
     "output_type": "stream",
     "text": [
      "✅ Feature extraction complete for: cricket_shot/Defence/IMG_2471.MOV\n",
      "📹 Processing video: cricket_shot/Defence/IMG_2465.MOV\n"
     ]
    },
    {
     "name": "stderr",
     "output_type": "stream",
     "text": []
    },
    {
     "name": "stdout",
     "output_type": "stream",
     "text": [
      "✅ Feature extraction complete for: cricket_shot/Defence/IMG_2465.MOV\n",
      "📹 Processing video: cricket_shot/Defence/IMG_2473.MOV\n"
     ]
    },
    {
     "name": "stderr",
     "output_type": "stream",
     "text": []
    },
    {
     "name": "stdout",
     "output_type": "stream",
     "text": [
      "✅ Feature extraction complete for: cricket_shot/Defence/IMG_2473.MOV\n",
      "📹 Processing video: cricket_shot/Defence/IMG_2467.MOV\n"
     ]
    },
    {
     "name": "stderr",
     "output_type": "stream",
     "text": []
    },
    {
     "name": "stdout",
     "output_type": "stream",
     "text": [
      "✅ Feature extraction complete for: cricket_shot/Defence/IMG_2467.MOV\n",
      "📹 Processing video: cricket_shot/Defence/IMG_2466.MOV\n"
     ]
    },
    {
     "name": "stderr",
     "output_type": "stream",
     "text": []
    },
    {
     "name": "stdout",
     "output_type": "stream",
     "text": [
      "✅ Feature extraction complete for: cricket_shot/Defence/IMG_2466.MOV\n",
      "📹 Processing video: cricket_shot/Defence/IMG_2472.MOV\n"
     ]
    },
    {
     "name": "stderr",
     "output_type": "stream",
     "text": [
      "🔎 Extracting features for Defence: 100%|██████████| 42/42 [04:56<00:00,  7.06s/it]\n",
      "📂 Processing Shot Classes:  60%|██████    | 3/5 [15:25<10:08, 304.04s/it]"
     ]
    },
    {
     "name": "stdout",
     "output_type": "stream",
     "text": [
      "✅ Feature extraction complete for: cricket_shot/Defence/IMG_2472.MOV\n",
      "\n",
      "📁 Class: Pull_Shot → 43 videos found.\n"
     ]
    },
    {
     "name": "stderr",
     "output_type": "stream",
     "text": []
    },
    {
     "name": "stdout",
     "output_type": "stream",
     "text": [
      "📹 Processing video: cricket_shot/Pull_Shot/IMG_2480.MOV\n"
     ]
    },
    {
     "name": "stderr",
     "output_type": "stream",
     "text": []
    },
    {
     "name": "stdout",
     "output_type": "stream",
     "text": [
      "✅ Feature extraction complete for: cricket_shot/Pull_Shot/IMG_2480.MOV\n",
      "📹 Processing video: cricket_shot/Pull_Shot/IMG_2481.MOV\n"
     ]
    },
    {
     "name": "stderr",
     "output_type": "stream",
     "text": []
    },
    {
     "name": "stdout",
     "output_type": "stream",
     "text": [
      "✅ Feature extraction complete for: cricket_shot/Pull_Shot/IMG_2481.MOV\n",
      "📹 Processing video: cricket_shot/Pull_Shot/IMG_2495.MOV\n"
     ]
    },
    {
     "name": "stderr",
     "output_type": "stream",
     "text": []
    },
    {
     "name": "stdout",
     "output_type": "stream",
     "text": [
      "✅ Feature extraction complete for: cricket_shot/Pull_Shot/IMG_2495.MOV\n",
      "📹 Processing video: cricket_shot/Pull_Shot/IMG_2483.MOV\n"
     ]
    },
    {
     "name": "stderr",
     "output_type": "stream",
     "text": []
    },
    {
     "name": "stdout",
     "output_type": "stream",
     "text": [
      "✅ Feature extraction complete for: cricket_shot/Pull_Shot/IMG_2483.MOV\n",
      "📹 Processing video: cricket_shot/Pull_Shot/IMG_2497.MOV\n"
     ]
    },
    {
     "name": "stderr",
     "output_type": "stream",
     "text": []
    },
    {
     "name": "stdout",
     "output_type": "stream",
     "text": [
      "✅ Feature extraction complete for: cricket_shot/Pull_Shot/IMG_2497.MOV\n",
      "📹 Processing video: cricket_shot/Pull_Shot/IMG_2508.MOV\n"
     ]
    },
    {
     "name": "stderr",
     "output_type": "stream",
     "text": []
    },
    {
     "name": "stdout",
     "output_type": "stream",
     "text": [
      "✅ Feature extraction complete for: cricket_shot/Pull_Shot/IMG_2508.MOV\n",
      "📹 Processing video: cricket_shot/Pull_Shot/IMG_2520.MOV\n"
     ]
    },
    {
     "name": "stderr",
     "output_type": "stream",
     "text": []
    },
    {
     "name": "stdout",
     "output_type": "stream",
     "text": [
      "✅ Feature extraction complete for: cricket_shot/Pull_Shot/IMG_2520.MOV\n",
      "📹 Processing video: cricket_shot/Pull_Shot/IMG_2521.MOV\n"
     ]
    },
    {
     "name": "stderr",
     "output_type": "stream",
     "text": []
    },
    {
     "name": "stdout",
     "output_type": "stream",
     "text": [
      "✅ Feature extraction complete for: cricket_shot/Pull_Shot/IMG_2521.MOV\n",
      "📹 Processing video: cricket_shot/Pull_Shot/IMG_2509.MOV\n"
     ]
    },
    {
     "name": "stderr",
     "output_type": "stream",
     "text": []
    },
    {
     "name": "stdout",
     "output_type": "stream",
     "text": [
      "✅ Feature extraction complete for: cricket_shot/Pull_Shot/IMG_2509.MOV\n",
      "📹 Processing video: cricket_shot/Pull_Shot/IMG_2496.MOV\n"
     ]
    },
    {
     "name": "stderr",
     "output_type": "stream",
     "text": []
    },
    {
     "name": "stdout",
     "output_type": "stream",
     "text": [
      "✅ Feature extraction complete for: cricket_shot/Pull_Shot/IMG_2496.MOV\n",
      "📹 Processing video: cricket_shot/Pull_Shot/IMG_2482.MOV\n"
     ]
    },
    {
     "name": "stderr",
     "output_type": "stream",
     "text": []
    },
    {
     "name": "stdout",
     "output_type": "stream",
     "text": [
      "✅ Feature extraction complete for: cricket_shot/Pull_Shot/IMG_2482.MOV\n",
      "📹 Processing video: cricket_shot/Pull_Shot/IMG_2486.MOV\n"
     ]
    },
    {
     "name": "stderr",
     "output_type": "stream",
     "text": []
    },
    {
     "name": "stdout",
     "output_type": "stream",
     "text": [
      "✅ Feature extraction complete for: cricket_shot/Pull_Shot/IMG_2486.MOV\n",
      "📹 Processing video: cricket_shot/Pull_Shot/IMG_2479.MOV\n"
     ]
    },
    {
     "name": "stderr",
     "output_type": "stream",
     "text": []
    },
    {
     "name": "stdout",
     "output_type": "stream",
     "text": [
      "✅ Feature extraction complete for: cricket_shot/Pull_Shot/IMG_2479.MOV\n",
      "📹 Processing video: cricket_shot/Pull_Shot/IMG_2519.MOV\n"
     ]
    },
    {
     "name": "stderr",
     "output_type": "stream",
     "text": []
    },
    {
     "name": "stdout",
     "output_type": "stream",
     "text": [
      "✅ Feature extraction complete for: cricket_shot/Pull_Shot/IMG_2519.MOV\n",
      "📹 Processing video: cricket_shot/Pull_Shot/IMG_2518.MOV\n"
     ]
    },
    {
     "name": "stderr",
     "output_type": "stream",
     "text": []
    },
    {
     "name": "stdout",
     "output_type": "stream",
     "text": [
      "✅ Feature extraction complete for: cricket_shot/Pull_Shot/IMG_2518.MOV\n",
      "📹 Processing video: cricket_shot/Pull_Shot/IMG_2478.MOV\n"
     ]
    },
    {
     "name": "stderr",
     "output_type": "stream",
     "text": []
    },
    {
     "name": "stdout",
     "output_type": "stream",
     "text": [
      "✅ Feature extraction complete for: cricket_shot/Pull_Shot/IMG_2478.MOV\n",
      "📹 Processing video: cricket_shot/Pull_Shot/IMG_2487.MOV\n"
     ]
    },
    {
     "name": "stderr",
     "output_type": "stream",
     "text": []
    },
    {
     "name": "stdout",
     "output_type": "stream",
     "text": [
      "✅ Feature extraction complete for: cricket_shot/Pull_Shot/IMG_2487.MOV\n",
      "📹 Processing video: cricket_shot/Pull_Shot/IMG_2491.MOV\n"
     ]
    },
    {
     "name": "stderr",
     "output_type": "stream",
     "text": []
    },
    {
     "name": "stdout",
     "output_type": "stream",
     "text": [
      "✅ Feature extraction complete for: cricket_shot/Pull_Shot/IMG_2491.MOV\n",
      "📹 Processing video: cricket_shot/Pull_Shot/IMG_2485.MOV\n"
     ]
    },
    {
     "name": "stderr",
     "output_type": "stream",
     "text": []
    },
    {
     "name": "stdout",
     "output_type": "stream",
     "text": [
      "✅ Feature extraction complete for: cricket_shot/Pull_Shot/IMG_2485.MOV\n",
      "📹 Processing video: cricket_shot/Pull_Shot/IMG_2490.MOV\n"
     ]
    },
    {
     "name": "stderr",
     "output_type": "stream",
     "text": []
    },
    {
     "name": "stdout",
     "output_type": "stream",
     "text": [
      "✅ Feature extraction complete for: cricket_shot/Pull_Shot/IMG_2490.MOV\n",
      "📹 Processing video: cricket_shot/Pull_Shot/IMG_2489.MOV\n"
     ]
    },
    {
     "name": "stderr",
     "output_type": "stream",
     "text": []
    },
    {
     "name": "stdout",
     "output_type": "stream",
     "text": [
      "✅ Feature extraction complete for: cricket_shot/Pull_Shot/IMG_2489.MOV\n",
      "📹 Processing video: cricket_shot/Pull_Shot/IMG_2476.MOV\n"
     ]
    },
    {
     "name": "stderr",
     "output_type": "stream",
     "text": []
    },
    {
     "name": "stdout",
     "output_type": "stream",
     "text": [
      "✅ Feature extraction complete for: cricket_shot/Pull_Shot/IMG_2476.MOV\n",
      "📹 Processing video: cricket_shot/Pull_Shot/IMG_2502.MOV\n"
     ]
    },
    {
     "name": "stderr",
     "output_type": "stream",
     "text": []
    },
    {
     "name": "stdout",
     "output_type": "stream",
     "text": [
      "✅ Feature extraction complete for: cricket_shot/Pull_Shot/IMG_2502.MOV\n",
      "📹 Processing video: cricket_shot/Pull_Shot/IMG_2516.MOV\n"
     ]
    },
    {
     "name": "stderr",
     "output_type": "stream",
     "text": []
    },
    {
     "name": "stdout",
     "output_type": "stream",
     "text": [
      "✅ Feature extraction complete for: cricket_shot/Pull_Shot/IMG_2516.MOV\n",
      "📹 Processing video: cricket_shot/Pull_Shot/IMG_2517.MOV\n"
     ]
    },
    {
     "name": "stderr",
     "output_type": "stream",
     "text": []
    },
    {
     "name": "stdout",
     "output_type": "stream",
     "text": [
      "✅ Feature extraction complete for: cricket_shot/Pull_Shot/IMG_2517.MOV\n",
      "📹 Processing video: cricket_shot/Pull_Shot/IMG_2503.MOV\n"
     ]
    },
    {
     "name": "stderr",
     "output_type": "stream",
     "text": []
    },
    {
     "name": "stdout",
     "output_type": "stream",
     "text": [
      "✅ Feature extraction complete for: cricket_shot/Pull_Shot/IMG_2503.MOV\n",
      "📹 Processing video: cricket_shot/Pull_Shot/IMG_2477.MOV\n"
     ]
    },
    {
     "name": "stderr",
     "output_type": "stream",
     "text": []
    },
    {
     "name": "stdout",
     "output_type": "stream",
     "text": [
      "✅ Feature extraction complete for: cricket_shot/Pull_Shot/IMG_2477.MOV\n",
      "📹 Processing video: cricket_shot/Pull_Shot/IMG_2488.MOV\n"
     ]
    },
    {
     "name": "stderr",
     "output_type": "stream",
     "text": []
    },
    {
     "name": "stdout",
     "output_type": "stream",
     "text": [
      "✅ Feature extraction complete for: cricket_shot/Pull_Shot/IMG_2488.MOV\n",
      "📹 Processing video: cricket_shot/Pull_Shot/IMG_2475.MOV\n"
     ]
    },
    {
     "name": "stderr",
     "output_type": "stream",
     "text": []
    },
    {
     "name": "stdout",
     "output_type": "stream",
     "text": [
      "✅ Feature extraction complete for: cricket_shot/Pull_Shot/IMG_2475.MOV\n",
      "📹 Processing video: cricket_shot/Pull_Shot/IMG_2515.MOV\n"
     ]
    },
    {
     "name": "stderr",
     "output_type": "stream",
     "text": []
    },
    {
     "name": "stdout",
     "output_type": "stream",
     "text": [
      "✅ Feature extraction complete for: cricket_shot/Pull_Shot/IMG_2515.MOV\n",
      "📹 Processing video: cricket_shot/Pull_Shot/IMG_2501.MOV\n"
     ]
    },
    {
     "name": "stderr",
     "output_type": "stream",
     "text": []
    },
    {
     "name": "stdout",
     "output_type": "stream",
     "text": [
      "✅ Feature extraction complete for: cricket_shot/Pull_Shot/IMG_2501.MOV\n",
      "📹 Processing video: cricket_shot/Pull_Shot/IMG_2500.MOV\n"
     ]
    },
    {
     "name": "stderr",
     "output_type": "stream",
     "text": []
    },
    {
     "name": "stdout",
     "output_type": "stream",
     "text": [
      "✅ Feature extraction complete for: cricket_shot/Pull_Shot/IMG_2500.MOV\n",
      "📹 Processing video: cricket_shot/Pull_Shot/IMG_2514.MOV\n"
     ]
    },
    {
     "name": "stderr",
     "output_type": "stream",
     "text": []
    },
    {
     "name": "stdout",
     "output_type": "stream",
     "text": [
      "✅ Feature extraction complete for: cricket_shot/Pull_Shot/IMG_2514.MOV\n",
      "📹 Processing video: cricket_shot/Pull_Shot/IMG_2510.MOV\n"
     ]
    },
    {
     "name": "stderr",
     "output_type": "stream",
     "text": []
    },
    {
     "name": "stdout",
     "output_type": "stream",
     "text": [
      "✅ Feature extraction complete for: cricket_shot/Pull_Shot/IMG_2510.MOV\n",
      "📹 Processing video: cricket_shot/Pull_Shot/IMG_2504.MOV\n"
     ]
    },
    {
     "name": "stderr",
     "output_type": "stream",
     "text": []
    },
    {
     "name": "stdout",
     "output_type": "stream",
     "text": [
      "✅ Feature extraction complete for: cricket_shot/Pull_Shot/IMG_2504.MOV\n",
      "📹 Processing video: cricket_shot/Pull_Shot/IMG_2505.MOV\n"
     ]
    },
    {
     "name": "stderr",
     "output_type": "stream",
     "text": []
    },
    {
     "name": "stdout",
     "output_type": "stream",
     "text": [
      "✅ Feature extraction complete for: cricket_shot/Pull_Shot/IMG_2505.MOV\n",
      "📹 Processing video: cricket_shot/Pull_Shot/IMG_2511.MOV\n"
     ]
    },
    {
     "name": "stderr",
     "output_type": "stream",
     "text": []
    },
    {
     "name": "stdout",
     "output_type": "stream",
     "text": [
      "✅ Feature extraction complete for: cricket_shot/Pull_Shot/IMG_2511.MOV\n",
      "📹 Processing video: cricket_shot/Pull_Shot/IMG_2498.MOV\n"
     ]
    },
    {
     "name": "stderr",
     "output_type": "stream",
     "text": []
    },
    {
     "name": "stdout",
     "output_type": "stream",
     "text": [
      "✅ Feature extraction complete for: cricket_shot/Pull_Shot/IMG_2498.MOV\n",
      "📹 Processing video: cricket_shot/Pull_Shot/IMG_2507.MOV\n"
     ]
    },
    {
     "name": "stderr",
     "output_type": "stream",
     "text": []
    },
    {
     "name": "stdout",
     "output_type": "stream",
     "text": [
      "✅ Feature extraction complete for: cricket_shot/Pull_Shot/IMG_2507.MOV\n",
      "📹 Processing video: cricket_shot/Pull_Shot/IMG_2513.MOV\n"
     ]
    },
    {
     "name": "stderr",
     "output_type": "stream",
     "text": []
    },
    {
     "name": "stdout",
     "output_type": "stream",
     "text": [
      "✅ Feature extraction complete for: cricket_shot/Pull_Shot/IMG_2513.MOV\n",
      "📹 Processing video: cricket_shot/Pull_Shot/IMG_2512.MOV\n"
     ]
    },
    {
     "name": "stderr",
     "output_type": "stream",
     "text": []
    },
    {
     "name": "stdout",
     "output_type": "stream",
     "text": [
      "✅ Feature extraction complete for: cricket_shot/Pull_Shot/IMG_2512.MOV\n",
      "📹 Processing video: cricket_shot/Pull_Shot/IMG_2506.MOV\n"
     ]
    },
    {
     "name": "stderr",
     "output_type": "stream",
     "text": []
    },
    {
     "name": "stdout",
     "output_type": "stream",
     "text": [
      "✅ Feature extraction complete for: cricket_shot/Pull_Shot/IMG_2506.MOV\n",
      "📹 Processing video: cricket_shot/Pull_Shot/IMG_2499.MOV\n"
     ]
    },
    {
     "name": "stderr",
     "output_type": "stream",
     "text": [
      "🔎 Extracting features for Pull_Shot: 100%|██████████| 43/43 [05:08<00:00,  7.16s/it]\n",
      "📂 Processing Shot Classes:  80%|████████  | 4/5 [20:33<05:05, 305.63s/it]"
     ]
    },
    {
     "name": "stdout",
     "output_type": "stream",
     "text": [
      "✅ Feature extraction complete for: cricket_shot/Pull_Shot/IMG_2499.MOV\n",
      "\n",
      "📁 Class: Sweep_Shot → 33 videos found.\n"
     ]
    },
    {
     "name": "stderr",
     "output_type": "stream",
     "text": []
    },
    {
     "name": "stdout",
     "output_type": "stream",
     "text": [
      "📹 Processing video: cricket_shot/Sweep_Shot/IMG_2583.MOV\n"
     ]
    },
    {
     "name": "stderr",
     "output_type": "stream",
     "text": []
    },
    {
     "name": "stdout",
     "output_type": "stream",
     "text": [
      "✅ Feature extraction complete for: cricket_shot/Sweep_Shot/IMG_2583.MOV\n",
      "📹 Processing video: cricket_shot/Sweep_Shot/IMG_2568.MOV\n"
     ]
    },
    {
     "name": "stderr",
     "output_type": "stream",
     "text": []
    },
    {
     "name": "stdout",
     "output_type": "stream",
     "text": [
      "✅ Feature extraction complete for: cricket_shot/Sweep_Shot/IMG_2568.MOV\n",
      "📹 Processing video: cricket_shot/Sweep_Shot/IMG_2569.MOV\n"
     ]
    },
    {
     "name": "stderr",
     "output_type": "stream",
     "text": []
    },
    {
     "name": "stdout",
     "output_type": "stream",
     "text": [
      "✅ Feature extraction complete for: cricket_shot/Sweep_Shot/IMG_2569.MOV\n",
      "📹 Processing video: cricket_shot/Sweep_Shot/IMG_2582.MOV\n"
     ]
    },
    {
     "name": "stderr",
     "output_type": "stream",
     "text": []
    },
    {
     "name": "stdout",
     "output_type": "stream",
     "text": [
      "✅ Feature extraction complete for: cricket_shot/Sweep_Shot/IMG_2582.MOV\n",
      "📹 Processing video: cricket_shot/Sweep_Shot/IMG_2594.MOV\n"
     ]
    },
    {
     "name": "stderr",
     "output_type": "stream",
     "text": []
    },
    {
     "name": "stdout",
     "output_type": "stream",
     "text": [
      "✅ Feature extraction complete for: cricket_shot/Sweep_Shot/IMG_2594.MOV\n",
      "📹 Processing video: cricket_shot/Sweep_Shot/IMG_2580.MOV\n"
     ]
    },
    {
     "name": "stderr",
     "output_type": "stream",
     "text": []
    },
    {
     "name": "stdout",
     "output_type": "stream",
     "text": [
      "✅ Feature extraction complete for: cricket_shot/Sweep_Shot/IMG_2580.MOV\n",
      "📹 Processing video: cricket_shot/Sweep_Shot/IMG_2581.MOV\n"
     ]
    },
    {
     "name": "stderr",
     "output_type": "stream",
     "text": []
    },
    {
     "name": "stdout",
     "output_type": "stream",
     "text": [
      "✅ Feature extraction complete for: cricket_shot/Sweep_Shot/IMG_2581.MOV\n",
      "📹 Processing video: cricket_shot/Sweep_Shot/IMG_2595.MOV\n"
     ]
    },
    {
     "name": "stderr",
     "output_type": "stream",
     "text": []
    },
    {
     "name": "stdout",
     "output_type": "stream",
     "text": [
      "✅ Feature extraction complete for: cricket_shot/Sweep_Shot/IMG_2595.MOV\n",
      "📹 Processing video: cricket_shot/Sweep_Shot/IMG_2591.MOV\n"
     ]
    },
    {
     "name": "stderr",
     "output_type": "stream",
     "text": []
    },
    {
     "name": "stdout",
     "output_type": "stream",
     "text": [
      "✅ Feature extraction complete for: cricket_shot/Sweep_Shot/IMG_2591.MOV\n",
      "📹 Processing video: cricket_shot/Sweep_Shot/IMG_2585.MOV\n"
     ]
    },
    {
     "name": "stderr",
     "output_type": "stream",
     "text": []
    },
    {
     "name": "stdout",
     "output_type": "stream",
     "text": [
      "✅ Feature extraction complete for: cricket_shot/Sweep_Shot/IMG_2585.MOV\n",
      "📹 Processing video: cricket_shot/Sweep_Shot/IMG_2584.MOV\n"
     ]
    },
    {
     "name": "stderr",
     "output_type": "stream",
     "text": []
    },
    {
     "name": "stdout",
     "output_type": "stream",
     "text": [
      "✅ Feature extraction complete for: cricket_shot/Sweep_Shot/IMG_2584.MOV\n",
      "📹 Processing video: cricket_shot/Sweep_Shot/IMG_2590.MOV\n"
     ]
    },
    {
     "name": "stderr",
     "output_type": "stream",
     "text": []
    },
    {
     "name": "stdout",
     "output_type": "stream",
     "text": [
      "✅ Feature extraction complete for: cricket_shot/Sweep_Shot/IMG_2590.MOV\n",
      "📹 Processing video: cricket_shot/Sweep_Shot/IMG_2586.MOV\n"
     ]
    },
    {
     "name": "stderr",
     "output_type": "stream",
     "text": []
    },
    {
     "name": "stdout",
     "output_type": "stream",
     "text": [
      "✅ Feature extraction complete for: cricket_shot/Sweep_Shot/IMG_2586.MOV\n",
      "📹 Processing video: cricket_shot/Sweep_Shot/IMG_2592.MOV\n"
     ]
    },
    {
     "name": "stderr",
     "output_type": "stream",
     "text": []
    },
    {
     "name": "stdout",
     "output_type": "stream",
     "text": [
      "✅ Feature extraction complete for: cricket_shot/Sweep_Shot/IMG_2592.MOV\n",
      "📹 Processing video: cricket_shot/Sweep_Shot/IMG_2579.MOV\n"
     ]
    },
    {
     "name": "stderr",
     "output_type": "stream",
     "text": []
    },
    {
     "name": "stdout",
     "output_type": "stream",
     "text": [
      "✅ Feature extraction complete for: cricket_shot/Sweep_Shot/IMG_2579.MOV\n",
      "📹 Processing video: cricket_shot/Sweep_Shot/IMG_2578.MOV\n"
     ]
    },
    {
     "name": "stderr",
     "output_type": "stream",
     "text": []
    },
    {
     "name": "stdout",
     "output_type": "stream",
     "text": [
      "✅ Feature extraction complete for: cricket_shot/Sweep_Shot/IMG_2578.MOV\n",
      "📹 Processing video: cricket_shot/Sweep_Shot/IMG_2593.MOV\n"
     ]
    },
    {
     "name": "stderr",
     "output_type": "stream",
     "text": []
    },
    {
     "name": "stdout",
     "output_type": "stream",
     "text": [
      "✅ Feature extraction complete for: cricket_shot/Sweep_Shot/IMG_2593.MOV\n",
      "📹 Processing video: cricket_shot/Sweep_Shot/IMG_2587.MOV\n"
     ]
    },
    {
     "name": "stderr",
     "output_type": "stream",
     "text": []
    },
    {
     "name": "stdout",
     "output_type": "stream",
     "text": [
      "✅ Feature extraction complete for: cricket_shot/Sweep_Shot/IMG_2587.MOV\n",
      "📹 Processing video: cricket_shot/Sweep_Shot/IMG_2575.MOV\n"
     ]
    },
    {
     "name": "stderr",
     "output_type": "stream",
     "text": []
    },
    {
     "name": "stdout",
     "output_type": "stream",
     "text": [
      "✅ Feature extraction complete for: cricket_shot/Sweep_Shot/IMG_2575.MOV\n",
      "📹 Processing video: cricket_shot/Sweep_Shot/IMG_2574.MOV\n"
     ]
    },
    {
     "name": "stderr",
     "output_type": "stream",
     "text": []
    },
    {
     "name": "stdout",
     "output_type": "stream",
     "text": [
      "✅ Feature extraction complete for: cricket_shot/Sweep_Shot/IMG_2574.MOV\n",
      "📹 Processing video: cricket_shot/Sweep_Shot/IMG_2589.MOV\n"
     ]
    },
    {
     "name": "stderr",
     "output_type": "stream",
     "text": []
    },
    {
     "name": "stdout",
     "output_type": "stream",
     "text": [
      "✅ Feature extraction complete for: cricket_shot/Sweep_Shot/IMG_2589.MOV\n",
      "📹 Processing video: cricket_shot/Sweep_Shot/IMG_2576.MOV\n"
     ]
    },
    {
     "name": "stderr",
     "output_type": "stream",
     "text": []
    },
    {
     "name": "stdout",
     "output_type": "stream",
     "text": [
      "✅ Feature extraction complete for: cricket_shot/Sweep_Shot/IMG_2576.MOV\n",
      "📹 Processing video: cricket_shot/Sweep_Shot/IMG_2563.MOV\n"
     ]
    },
    {
     "name": "stderr",
     "output_type": "stream",
     "text": []
    },
    {
     "name": "stdout",
     "output_type": "stream",
     "text": [
      "✅ Feature extraction complete for: cricket_shot/Sweep_Shot/IMG_2563.MOV\n",
      "📹 Processing video: cricket_shot/Sweep_Shot/IMG_2577.MOV\n"
     ]
    },
    {
     "name": "stderr",
     "output_type": "stream",
     "text": []
    },
    {
     "name": "stdout",
     "output_type": "stream",
     "text": [
      "✅ Feature extraction complete for: cricket_shot/Sweep_Shot/IMG_2577.MOV\n",
      "📹 Processing video: cricket_shot/Sweep_Shot/IMG_2588.MOV\n"
     ]
    },
    {
     "name": "stderr",
     "output_type": "stream",
     "text": []
    },
    {
     "name": "stdout",
     "output_type": "stream",
     "text": [
      "✅ Feature extraction complete for: cricket_shot/Sweep_Shot/IMG_2588.MOV\n",
      "📹 Processing video: cricket_shot/Sweep_Shot/IMG_2573.MOV\n"
     ]
    },
    {
     "name": "stderr",
     "output_type": "stream",
     "text": []
    },
    {
     "name": "stdout",
     "output_type": "stream",
     "text": [
      "✅ Feature extraction complete for: cricket_shot/Sweep_Shot/IMG_2573.MOV\n",
      "📹 Processing video: cricket_shot/Sweep_Shot/IMG_2567.MOV\n"
     ]
    },
    {
     "name": "stderr",
     "output_type": "stream",
     "text": []
    },
    {
     "name": "stdout",
     "output_type": "stream",
     "text": [
      "✅ Feature extraction complete for: cricket_shot/Sweep_Shot/IMG_2567.MOV\n",
      "📹 Processing video: cricket_shot/Sweep_Shot/IMG_2566.MOV\n"
     ]
    },
    {
     "name": "stderr",
     "output_type": "stream",
     "text": []
    },
    {
     "name": "stdout",
     "output_type": "stream",
     "text": [
      "✅ Feature extraction complete for: cricket_shot/Sweep_Shot/IMG_2566.MOV\n",
      "📹 Processing video: cricket_shot/Sweep_Shot/IMG_2572.MOV\n"
     ]
    },
    {
     "name": "stderr",
     "output_type": "stream",
     "text": []
    },
    {
     "name": "stdout",
     "output_type": "stream",
     "text": [
      "✅ Feature extraction complete for: cricket_shot/Sweep_Shot/IMG_2572.MOV\n",
      "📹 Processing video: cricket_shot/Sweep_Shot/IMG_2564.MOV\n"
     ]
    },
    {
     "name": "stderr",
     "output_type": "stream",
     "text": []
    },
    {
     "name": "stdout",
     "output_type": "stream",
     "text": [
      "✅ Feature extraction complete for: cricket_shot/Sweep_Shot/IMG_2564.MOV\n",
      "📹 Processing video: cricket_shot/Sweep_Shot/IMG_2570.MOV\n"
     ]
    },
    {
     "name": "stderr",
     "output_type": "stream",
     "text": []
    },
    {
     "name": "stdout",
     "output_type": "stream",
     "text": [
      "✅ Feature extraction complete for: cricket_shot/Sweep_Shot/IMG_2570.MOV\n",
      "📹 Processing video: cricket_shot/Sweep_Shot/IMG_2571.MOV\n"
     ]
    },
    {
     "name": "stderr",
     "output_type": "stream",
     "text": []
    },
    {
     "name": "stdout",
     "output_type": "stream",
     "text": [
      "✅ Feature extraction complete for: cricket_shot/Sweep_Shot/IMG_2571.MOV\n",
      "📹 Processing video: cricket_shot/Sweep_Shot/IMG_2565.MOV\n"
     ]
    },
    {
     "name": "stderr",
     "output_type": "stream",
     "text": [
      "🔎 Extracting features for Sweep_Shot: 100%|██████████| 33/33 [03:54<00:00,  7.10s/it]\n",
      "📂 Processing Shot Classes: 100%|██████████| 5/5 [24:28<00:00, 293.61s/it]"
     ]
    },
    {
     "name": "stdout",
     "output_type": "stream",
     "text": [
      "✅ Feature extraction complete for: cricket_shot/Sweep_Shot/IMG_2565.MOV\n",
      "\n",
      "✅ Dataset generation complete!\n",
      "Total samples: 205\n",
      "X_data shape: (205, 60, 106)\n",
      "y_data shape: (205,)\n",
      "\n",
      "✅ Train/Test Split Complete!\n",
      "Training samples: 164\n",
      "Testing samples: 41\n"
     ]
    },
    {
     "name": "stderr",
     "output_type": "stream",
     "text": [
      "\n"
     ]
    }
   ],
   "source": [
    "# ✅ Process All Videos in Dataset and Create Feature & Label Arrays\n",
    "\n",
    "X_data = []\n",
    "y_data = []\n",
    "\n",
    "# Loop through all shot classes (folders in cricket_shot)\n",
    "for shot_label in tqdm(class_labels, desc=\"📂 Processing Shot Classes\"):\n",
    "    class_folder = os.path.join(DATASET_PATH, shot_label)\n",
    "    \n",
    "    # List all video files inside the folder\n",
    "    video_files = [f for f in os.listdir(class_folder) if f.lower().endswith(('.mp4', '.avi', '.mov', '.mkv'))]\n",
    "    \n",
    "    print(f\"\\n📁 Class: {shot_label} → {len(video_files)} videos found.\")\n",
    "\n",
    "    for video_file in tqdm(video_files, desc=f\"🔎 Extracting features for {shot_label}\"):\n",
    "        video_path = os.path.join(class_folder, video_file)\n",
    "        \n",
    "        # Extract features from video\n",
    "        features = extract_features(video_path)\n",
    "        \n",
    "        if features is not None:\n",
    "            X_data.append(features)\n",
    "            y_data.append(shot_label)\n",
    "        else:\n",
    "            print(f\"⚠️ Skipped {video_file} (Not enough frames or extraction error).\")\n",
    "\n",
    "# Convert lists to NumPy arrays\n",
    "X_data = np.vstack(X_data)  # Shape: (num_samples, sequence_length, features_per_frame)\n",
    "y_data = np.array(y_data)\n",
    "\n",
    "print(\"\\n✅ Dataset generation complete!\")\n",
    "print(f\"Total samples: {len(X_data)}\")\n",
    "print(f\"X_data shape: {X_data.shape}\")\n",
    "print(f\"y_data shape: {y_data.shape}\")\n",
    "\n",
    "# ✅ Encode Labels to Integers\n",
    "label_encoder = LabelEncoder()\n",
    "y_encoded = label_encoder.fit_transform(y_data)\n",
    "\n",
    "# ✅ Convert to One-Hot Encoding\n",
    "y_onehot = to_categorical(y_encoded, num_classes=len(class_labels))\n",
    "\n",
    "# ✅ Split Dataset into Training and Testing Sets\n",
    "X_train, X_test, y_train, y_test = train_test_split(\n",
    "    X_data, y_onehot,\n",
    "    test_size=TEST_SIZE,\n",
    "    random_state=RANDOM_STATE,\n",
    "    stratify=y_encoded\n",
    ")\n",
    "\n",
    "print(\"\\n✅ Train/Test Split Complete!\")\n",
    "print(f\"Training samples: {X_train.shape[0]}\")\n",
    "print(f\"Testing samples: {X_test.shape[0]}\")\n"
   ]
  },
  {
   "cell_type": "code",
   "execution_count": 65,
   "metadata": {},
   "outputs": [
    {
     "name": "stdout",
     "output_type": "stream",
     "text": [
      "✅ Model input shape: (sequence_len=60, feature_len=106)\n"
     ]
    },
    {
     "name": "stderr",
     "output_type": "stream",
     "text": [
      "/Library/Frameworks/Python.framework/Versions/3.10/lib/python3.10/site-packages/keras/src/layers/convolutional/base_conv.py:107: UserWarning: Do not pass an `input_shape`/`input_dim` argument to a layer. When using Sequential models, prefer using an `Input(shape)` object as the first layer in the model instead.\n",
      "  super().__init__(activity_regularizer=activity_regularizer, **kwargs)\n"
     ]
    },
    {
     "data": {
      "text/html": [
       "<pre style=\"white-space:pre;overflow-x:auto;line-height:normal;font-family:Menlo,'DejaVu Sans Mono',consolas,'Courier New',monospace\"><span style=\"font-weight: bold\">Model: \"sequential_6\"</span>\n",
       "</pre>\n"
      ],
      "text/plain": [
       "\u001b[1mModel: \"sequential_6\"\u001b[0m\n"
      ]
     },
     "metadata": {},
     "output_type": "display_data"
    },
    {
     "data": {
      "text/html": [
       "<pre style=\"white-space:pre;overflow-x:auto;line-height:normal;font-family:Menlo,'DejaVu Sans Mono',consolas,'Courier New',monospace\">┏━━━━━━━━━━━━━━━━━━━━━━━━━━━━━━━━━┳━━━━━━━━━━━━━━━━━━━━━━━━┳━━━━━━━━━━━━━━━┓\n",
       "┃<span style=\"font-weight: bold\"> Layer (type)                    </span>┃<span style=\"font-weight: bold\"> Output Shape           </span>┃<span style=\"font-weight: bold\">       Param # </span>┃\n",
       "┡━━━━━━━━━━━━━━━━━━━━━━━━━━━━━━━━━╇━━━━━━━━━━━━━━━━━━━━━━━━╇━━━━━━━━━━━━━━━┩\n",
       "│ conv1d_8 (<span style=\"color: #0087ff; text-decoration-color: #0087ff\">Conv1D</span>)               │ (<span style=\"color: #00d7ff; text-decoration-color: #00d7ff\">None</span>, <span style=\"color: #00af00; text-decoration-color: #00af00\">56</span>, <span style=\"color: #00af00; text-decoration-color: #00af00\">128</span>)        │        <span style=\"color: #00af00; text-decoration-color: #00af00\">67,968</span> │\n",
       "├─────────────────────────────────┼────────────────────────┼───────────────┤\n",
       "│ max_pooling1d_8 (<span style=\"color: #0087ff; text-decoration-color: #0087ff\">MaxPooling1D</span>)  │ (<span style=\"color: #00d7ff; text-decoration-color: #00d7ff\">None</span>, <span style=\"color: #00af00; text-decoration-color: #00af00\">28</span>, <span style=\"color: #00af00; text-decoration-color: #00af00\">128</span>)        │             <span style=\"color: #00af00; text-decoration-color: #00af00\">0</span> │\n",
       "├─────────────────────────────────┼────────────────────────┼───────────────┤\n",
       "│ batch_normalization_8           │ (<span style=\"color: #00d7ff; text-decoration-color: #00d7ff\">None</span>, <span style=\"color: #00af00; text-decoration-color: #00af00\">28</span>, <span style=\"color: #00af00; text-decoration-color: #00af00\">128</span>)        │           <span style=\"color: #00af00; text-decoration-color: #00af00\">512</span> │\n",
       "│ (<span style=\"color: #0087ff; text-decoration-color: #0087ff\">BatchNormalization</span>)            │                        │               │\n",
       "├─────────────────────────────────┼────────────────────────┼───────────────┤\n",
       "│ conv1d_9 (<span style=\"color: #0087ff; text-decoration-color: #0087ff\">Conv1D</span>)               │ (<span style=\"color: #00d7ff; text-decoration-color: #00d7ff\">None</span>, <span style=\"color: #00af00; text-decoration-color: #00af00\">26</span>, <span style=\"color: #00af00; text-decoration-color: #00af00\">256</span>)        │        <span style=\"color: #00af00; text-decoration-color: #00af00\">98,560</span> │\n",
       "├─────────────────────────────────┼────────────────────────┼───────────────┤\n",
       "│ max_pooling1d_9 (<span style=\"color: #0087ff; text-decoration-color: #0087ff\">MaxPooling1D</span>)  │ (<span style=\"color: #00d7ff; text-decoration-color: #00d7ff\">None</span>, <span style=\"color: #00af00; text-decoration-color: #00af00\">13</span>, <span style=\"color: #00af00; text-decoration-color: #00af00\">256</span>)        │             <span style=\"color: #00af00; text-decoration-color: #00af00\">0</span> │\n",
       "├─────────────────────────────────┼────────────────────────┼───────────────┤\n",
       "│ batch_normalization_9           │ (<span style=\"color: #00d7ff; text-decoration-color: #00d7ff\">None</span>, <span style=\"color: #00af00; text-decoration-color: #00af00\">13</span>, <span style=\"color: #00af00; text-decoration-color: #00af00\">256</span>)        │         <span style=\"color: #00af00; text-decoration-color: #00af00\">1,024</span> │\n",
       "│ (<span style=\"color: #0087ff; text-decoration-color: #0087ff\">BatchNormalization</span>)            │                        │               │\n",
       "├─────────────────────────────────┼────────────────────────┼───────────────┤\n",
       "│ lstm_12 (<span style=\"color: #0087ff; text-decoration-color: #0087ff\">LSTM</span>)                  │ (<span style=\"color: #00d7ff; text-decoration-color: #00d7ff\">None</span>, <span style=\"color: #00af00; text-decoration-color: #00af00\">13</span>, <span style=\"color: #00af00; text-decoration-color: #00af00\">256</span>)        │       <span style=\"color: #00af00; text-decoration-color: #00af00\">525,312</span> │\n",
       "├─────────────────────────────────┼────────────────────────┼───────────────┤\n",
       "│ dropout_12 (<span style=\"color: #0087ff; text-decoration-color: #0087ff\">Dropout</span>)            │ (<span style=\"color: #00d7ff; text-decoration-color: #00d7ff\">None</span>, <span style=\"color: #00af00; text-decoration-color: #00af00\">13</span>, <span style=\"color: #00af00; text-decoration-color: #00af00\">256</span>)        │             <span style=\"color: #00af00; text-decoration-color: #00af00\">0</span> │\n",
       "├─────────────────────────────────┼────────────────────────┼───────────────┤\n",
       "│ lstm_13 (<span style=\"color: #0087ff; text-decoration-color: #0087ff\">LSTM</span>)                  │ (<span style=\"color: #00d7ff; text-decoration-color: #00d7ff\">None</span>, <span style=\"color: #00af00; text-decoration-color: #00af00\">128</span>)            │       <span style=\"color: #00af00; text-decoration-color: #00af00\">197,120</span> │\n",
       "├─────────────────────────────────┼────────────────────────┼───────────────┤\n",
       "│ dropout_13 (<span style=\"color: #0087ff; text-decoration-color: #0087ff\">Dropout</span>)            │ (<span style=\"color: #00d7ff; text-decoration-color: #00d7ff\">None</span>, <span style=\"color: #00af00; text-decoration-color: #00af00\">128</span>)            │             <span style=\"color: #00af00; text-decoration-color: #00af00\">0</span> │\n",
       "├─────────────────────────────────┼────────────────────────┼───────────────┤\n",
       "│ dense_12 (<span style=\"color: #0087ff; text-decoration-color: #0087ff\">Dense</span>)                │ (<span style=\"color: #00d7ff; text-decoration-color: #00d7ff\">None</span>, <span style=\"color: #00af00; text-decoration-color: #00af00\">128</span>)            │        <span style=\"color: #00af00; text-decoration-color: #00af00\">16,512</span> │\n",
       "├─────────────────────────────────┼────────────────────────┼───────────────┤\n",
       "│ dropout_14 (<span style=\"color: #0087ff; text-decoration-color: #0087ff\">Dropout</span>)            │ (<span style=\"color: #00d7ff; text-decoration-color: #00d7ff\">None</span>, <span style=\"color: #00af00; text-decoration-color: #00af00\">128</span>)            │             <span style=\"color: #00af00; text-decoration-color: #00af00\">0</span> │\n",
       "├─────────────────────────────────┼────────────────────────┼───────────────┤\n",
       "│ dense_13 (<span style=\"color: #0087ff; text-decoration-color: #0087ff\">Dense</span>)                │ (<span style=\"color: #00d7ff; text-decoration-color: #00d7ff\">None</span>, <span style=\"color: #00af00; text-decoration-color: #00af00\">5</span>)              │           <span style=\"color: #00af00; text-decoration-color: #00af00\">645</span> │\n",
       "└─────────────────────────────────┴────────────────────────┴───────────────┘\n",
       "</pre>\n"
      ],
      "text/plain": [
       "┏━━━━━━━━━━━━━━━━━━━━━━━━━━━━━━━━━┳━━━━━━━━━━━━━━━━━━━━━━━━┳━━━━━━━━━━━━━━━┓\n",
       "┃\u001b[1m \u001b[0m\u001b[1mLayer (type)                   \u001b[0m\u001b[1m \u001b[0m┃\u001b[1m \u001b[0m\u001b[1mOutput Shape          \u001b[0m\u001b[1m \u001b[0m┃\u001b[1m \u001b[0m\u001b[1m      Param #\u001b[0m\u001b[1m \u001b[0m┃\n",
       "┡━━━━━━━━━━━━━━━━━━━━━━━━━━━━━━━━━╇━━━━━━━━━━━━━━━━━━━━━━━━╇━━━━━━━━━━━━━━━┩\n",
       "│ conv1d_8 (\u001b[38;5;33mConv1D\u001b[0m)               │ (\u001b[38;5;45mNone\u001b[0m, \u001b[38;5;34m56\u001b[0m, \u001b[38;5;34m128\u001b[0m)        │        \u001b[38;5;34m67,968\u001b[0m │\n",
       "├─────────────────────────────────┼────────────────────────┼───────────────┤\n",
       "│ max_pooling1d_8 (\u001b[38;5;33mMaxPooling1D\u001b[0m)  │ (\u001b[38;5;45mNone\u001b[0m, \u001b[38;5;34m28\u001b[0m, \u001b[38;5;34m128\u001b[0m)        │             \u001b[38;5;34m0\u001b[0m │\n",
       "├─────────────────────────────────┼────────────────────────┼───────────────┤\n",
       "│ batch_normalization_8           │ (\u001b[38;5;45mNone\u001b[0m, \u001b[38;5;34m28\u001b[0m, \u001b[38;5;34m128\u001b[0m)        │           \u001b[38;5;34m512\u001b[0m │\n",
       "│ (\u001b[38;5;33mBatchNormalization\u001b[0m)            │                        │               │\n",
       "├─────────────────────────────────┼────────────────────────┼───────────────┤\n",
       "│ conv1d_9 (\u001b[38;5;33mConv1D\u001b[0m)               │ (\u001b[38;5;45mNone\u001b[0m, \u001b[38;5;34m26\u001b[0m, \u001b[38;5;34m256\u001b[0m)        │        \u001b[38;5;34m98,560\u001b[0m │\n",
       "├─────────────────────────────────┼────────────────────────┼───────────────┤\n",
       "│ max_pooling1d_9 (\u001b[38;5;33mMaxPooling1D\u001b[0m)  │ (\u001b[38;5;45mNone\u001b[0m, \u001b[38;5;34m13\u001b[0m, \u001b[38;5;34m256\u001b[0m)        │             \u001b[38;5;34m0\u001b[0m │\n",
       "├─────────────────────────────────┼────────────────────────┼───────────────┤\n",
       "│ batch_normalization_9           │ (\u001b[38;5;45mNone\u001b[0m, \u001b[38;5;34m13\u001b[0m, \u001b[38;5;34m256\u001b[0m)        │         \u001b[38;5;34m1,024\u001b[0m │\n",
       "│ (\u001b[38;5;33mBatchNormalization\u001b[0m)            │                        │               │\n",
       "├─────────────────────────────────┼────────────────────────┼───────────────┤\n",
       "│ lstm_12 (\u001b[38;5;33mLSTM\u001b[0m)                  │ (\u001b[38;5;45mNone\u001b[0m, \u001b[38;5;34m13\u001b[0m, \u001b[38;5;34m256\u001b[0m)        │       \u001b[38;5;34m525,312\u001b[0m │\n",
       "├─────────────────────────────────┼────────────────────────┼───────────────┤\n",
       "│ dropout_12 (\u001b[38;5;33mDropout\u001b[0m)            │ (\u001b[38;5;45mNone\u001b[0m, \u001b[38;5;34m13\u001b[0m, \u001b[38;5;34m256\u001b[0m)        │             \u001b[38;5;34m0\u001b[0m │\n",
       "├─────────────────────────────────┼────────────────────────┼───────────────┤\n",
       "│ lstm_13 (\u001b[38;5;33mLSTM\u001b[0m)                  │ (\u001b[38;5;45mNone\u001b[0m, \u001b[38;5;34m128\u001b[0m)            │       \u001b[38;5;34m197,120\u001b[0m │\n",
       "├─────────────────────────────────┼────────────────────────┼───────────────┤\n",
       "│ dropout_13 (\u001b[38;5;33mDropout\u001b[0m)            │ (\u001b[38;5;45mNone\u001b[0m, \u001b[38;5;34m128\u001b[0m)            │             \u001b[38;5;34m0\u001b[0m │\n",
       "├─────────────────────────────────┼────────────────────────┼───────────────┤\n",
       "│ dense_12 (\u001b[38;5;33mDense\u001b[0m)                │ (\u001b[38;5;45mNone\u001b[0m, \u001b[38;5;34m128\u001b[0m)            │        \u001b[38;5;34m16,512\u001b[0m │\n",
       "├─────────────────────────────────┼────────────────────────┼───────────────┤\n",
       "│ dropout_14 (\u001b[38;5;33mDropout\u001b[0m)            │ (\u001b[38;5;45mNone\u001b[0m, \u001b[38;5;34m128\u001b[0m)            │             \u001b[38;5;34m0\u001b[0m │\n",
       "├─────────────────────────────────┼────────────────────────┼───────────────┤\n",
       "│ dense_13 (\u001b[38;5;33mDense\u001b[0m)                │ (\u001b[38;5;45mNone\u001b[0m, \u001b[38;5;34m5\u001b[0m)              │           \u001b[38;5;34m645\u001b[0m │\n",
       "└─────────────────────────────────┴────────────────────────┴───────────────┘\n"
      ]
     },
     "metadata": {},
     "output_type": "display_data"
    },
    {
     "data": {
      "text/html": [
       "<pre style=\"white-space:pre;overflow-x:auto;line-height:normal;font-family:Menlo,'DejaVu Sans Mono',consolas,'Courier New',monospace\"><span style=\"font-weight: bold\"> Total params: </span><span style=\"color: #00af00; text-decoration-color: #00af00\">907,653</span> (3.46 MB)\n",
       "</pre>\n"
      ],
      "text/plain": [
       "\u001b[1m Total params: \u001b[0m\u001b[38;5;34m907,653\u001b[0m (3.46 MB)\n"
      ]
     },
     "metadata": {},
     "output_type": "display_data"
    },
    {
     "data": {
      "text/html": [
       "<pre style=\"white-space:pre;overflow-x:auto;line-height:normal;font-family:Menlo,'DejaVu Sans Mono',consolas,'Courier New',monospace\"><span style=\"font-weight: bold\"> Trainable params: </span><span style=\"color: #00af00; text-decoration-color: #00af00\">906,885</span> (3.46 MB)\n",
       "</pre>\n"
      ],
      "text/plain": [
       "\u001b[1m Trainable params: \u001b[0m\u001b[38;5;34m906,885\u001b[0m (3.46 MB)\n"
      ]
     },
     "metadata": {},
     "output_type": "display_data"
    },
    {
     "data": {
      "text/html": [
       "<pre style=\"white-space:pre;overflow-x:auto;line-height:normal;font-family:Menlo,'DejaVu Sans Mono',consolas,'Courier New',monospace\"><span style=\"font-weight: bold\"> Non-trainable params: </span><span style=\"color: #00af00; text-decoration-color: #00af00\">768</span> (3.00 KB)\n",
       "</pre>\n"
      ],
      "text/plain": [
       "\u001b[1m Non-trainable params: \u001b[0m\u001b[38;5;34m768\u001b[0m (3.00 KB)\n"
      ]
     },
     "metadata": {},
     "output_type": "display_data"
    }
   ],
   "source": [
    "# ✅ CNN + LSTM Model Definition\n",
    "from tensorflow.keras.models import Sequential\n",
    "from tensorflow.keras.layers import Conv1D, MaxPooling1D, LSTM, Dense, Dropout, BatchNormalization\n",
    "\n",
    "# Automatically detect feature dimension from training data\n",
    "sequence_len = X_train.shape[1]\n",
    "feature_len = X_train.shape[2]\n",
    "\n",
    "print(f\"✅ Model input shape: (sequence_len={sequence_len}, feature_len={feature_len})\")\n",
    "\n",
    "# ✅ Model Architecture\n",
    "model = Sequential()\n",
    "\n",
    "# Convolutional Layers (extract temporal-spatial patterns)\n",
    "model.add(Conv1D(filters=128, kernel_size=5, activation='relu', input_shape=(sequence_len, feature_len)))\n",
    "model.add(MaxPooling1D(pool_size=2))\n",
    "model.add(BatchNormalization())\n",
    "\n",
    "model.add(Conv1D(filters=256, kernel_size=3, activation='relu'))\n",
    "model.add(MaxPooling1D(pool_size=2))\n",
    "model.add(BatchNormalization())\n",
    "\n",
    "# LSTM Layers (capture temporal dependencies)\n",
    "model.add(LSTM(256, return_sequences=True))\n",
    "model.add(Dropout(0.5))\n",
    "\n",
    "model.add(LSTM(128))\n",
    "model.add(Dropout(0.5))\n",
    "\n",
    "# Fully Connected Dense Layers\n",
    "model.add(Dense(128, activation='relu'))\n",
    "model.add(Dropout(0.5))\n",
    "\n",
    "# Output Layer (Softmax for multi-class classification)\n",
    "model.add(Dense(len(class_labels), activation='softmax'))\n",
    "\n",
    "# ✅ Compile the Model\n",
    "model.compile(\n",
    "    optimizer='adam',\n",
    "    loss='categorical_crossentropy',\n",
    "    metrics=['accuracy']\n",
    ")\n",
    "\n",
    "# ✅ Model Summary\n",
    "model.summary()\n"
   ]
  },
  {
   "cell_type": "code",
   "execution_count": 66,
   "metadata": {},
   "outputs": [
    {
     "name": "stdout",
     "output_type": "stream",
     "text": [
      "Epoch 1/100\n",
      "\u001b[1m19/21\u001b[0m \u001b[32m━━━━━━━━━━━━━━━━━━\u001b[0m\u001b[37m━━\u001b[0m \u001b[1m0s\u001b[0m 12ms/step - accuracy: 0.2560 - loss: 1.5971\n",
      "Epoch 1: val_loss improved from inf to 1.68066, saving model to best_cnn_lstm_model.h5\n"
     ]
    },
    {
     "name": "stderr",
     "output_type": "stream",
     "text": [
      "WARNING:absl:You are saving your model as an HDF5 file via `model.save()` or `keras.saving.save_model(model)`. This file format is considered legacy. We recommend using instead the native Keras format, e.g. `model.save('my_model.keras')` or `keras.saving.save_model(model, 'my_model.keras')`. \n"
     ]
    },
    {
     "name": "stdout",
     "output_type": "stream",
     "text": [
      "\u001b[1m21/21\u001b[0m \u001b[32m━━━━━━━━━━━━━━━━━━━━\u001b[0m\u001b[37m\u001b[0m \u001b[1m2s\u001b[0m 24ms/step - accuracy: 0.2633 - loss: 1.5959 - val_accuracy: 0.1707 - val_loss: 1.6807 - learning_rate: 0.0010\n",
      "Epoch 2/100\n",
      "\u001b[1m21/21\u001b[0m \u001b[32m━━━━━━━━━━━━━━━━━━━━\u001b[0m\u001b[37m\u001b[0m \u001b[1m0s\u001b[0m 13ms/step - accuracy: 0.3955 - loss: 1.5183\n",
      "Epoch 2: val_loss improved from 1.68066 to 1.65836, saving model to best_cnn_lstm_model.h5\n"
     ]
    },
    {
     "name": "stderr",
     "output_type": "stream",
     "text": [
      "WARNING:absl:You are saving your model as an HDF5 file via `model.save()` or `keras.saving.save_model(model)`. This file format is considered legacy. We recommend using instead the native Keras format, e.g. `model.save('my_model.keras')` or `keras.saving.save_model(model, 'my_model.keras')`. \n"
     ]
    },
    {
     "name": "stdout",
     "output_type": "stream",
     "text": [
      "\u001b[1m21/21\u001b[0m \u001b[32m━━━━━━━━━━━━━━━━━━━━\u001b[0m\u001b[37m\u001b[0m \u001b[1m0s\u001b[0m 16ms/step - accuracy: 0.3933 - loss: 1.5194 - val_accuracy: 0.2439 - val_loss: 1.6584 - learning_rate: 0.0010\n",
      "Epoch 3/100\n",
      "\u001b[1m21/21\u001b[0m \u001b[32m━━━━━━━━━━━━━━━━━━━━\u001b[0m\u001b[37m\u001b[0m \u001b[1m0s\u001b[0m 14ms/step - accuracy: 0.4770 - loss: 1.3285\n",
      "Epoch 3: val_loss did not improve from 1.65836\n",
      "\u001b[1m21/21\u001b[0m \u001b[32m━━━━━━━━━━━━━━━━━━━━\u001b[0m\u001b[37m\u001b[0m \u001b[1m0s\u001b[0m 16ms/step - accuracy: 0.4750 - loss: 1.3306 - val_accuracy: 0.1707 - val_loss: 1.6986 - learning_rate: 0.0010\n",
      "Epoch 4/100\n",
      "\u001b[1m20/21\u001b[0m \u001b[32m━━━━━━━━━━━━━━━━━━━\u001b[0m\u001b[37m━\u001b[0m \u001b[1m0s\u001b[0m 14ms/step - accuracy: 0.3918 - loss: 1.5059\n",
      "Epoch 4: val_loss improved from 1.65836 to 1.64520, saving model to best_cnn_lstm_model.h5\n"
     ]
    },
    {
     "name": "stderr",
     "output_type": "stream",
     "text": [
      "WARNING:absl:You are saving your model as an HDF5 file via `model.save()` or `keras.saving.save_model(model)`. This file format is considered legacy. We recommend using instead the native Keras format, e.g. `model.save('my_model.keras')` or `keras.saving.save_model(model, 'my_model.keras')`. \n"
     ]
    },
    {
     "name": "stdout",
     "output_type": "stream",
     "text": [
      "\u001b[1m21/21\u001b[0m \u001b[32m━━━━━━━━━━━━━━━━━━━━\u001b[0m\u001b[37m\u001b[0m \u001b[1m0s\u001b[0m 18ms/step - accuracy: 0.3928 - loss: 1.4982 - val_accuracy: 0.2683 - val_loss: 1.6452 - learning_rate: 0.0010\n",
      "Epoch 5/100\n",
      "\u001b[1m21/21\u001b[0m \u001b[32m━━━━━━━━━━━━━━━━━━━━\u001b[0m\u001b[37m\u001b[0m \u001b[1m0s\u001b[0m 14ms/step - accuracy: 0.4439 - loss: 1.4633\n",
      "Epoch 5: val_loss improved from 1.64520 to 1.60001, saving model to best_cnn_lstm_model.h5\n"
     ]
    },
    {
     "name": "stderr",
     "output_type": "stream",
     "text": [
      "WARNING:absl:You are saving your model as an HDF5 file via `model.save()` or `keras.saving.save_model(model)`. This file format is considered legacy. We recommend using instead the native Keras format, e.g. `model.save('my_model.keras')` or `keras.saving.save_model(model, 'my_model.keras')`. \n"
     ]
    },
    {
     "name": "stdout",
     "output_type": "stream",
     "text": [
      "\u001b[1m21/21\u001b[0m \u001b[32m━━━━━━━━━━━━━━━━━━━━\u001b[0m\u001b[37m\u001b[0m \u001b[1m0s\u001b[0m 17ms/step - accuracy: 0.4464 - loss: 1.4614 - val_accuracy: 0.3415 - val_loss: 1.6000 - learning_rate: 0.0010\n",
      "Epoch 6/100\n",
      "\u001b[1m21/21\u001b[0m \u001b[32m━━━━━━━━━━━━━━━━━━━━\u001b[0m\u001b[37m\u001b[0m \u001b[1m0s\u001b[0m 15ms/step - accuracy: 0.4595 - loss: 1.4202\n",
      "Epoch 6: val_loss did not improve from 1.60001\n",
      "\u001b[1m21/21\u001b[0m \u001b[32m━━━━━━━━━━━━━━━━━━━━\u001b[0m\u001b[37m\u001b[0m \u001b[1m0s\u001b[0m 17ms/step - accuracy: 0.4597 - loss: 1.4171 - val_accuracy: 0.2439 - val_loss: 1.6918 - learning_rate: 0.0010\n",
      "Epoch 7/100\n",
      "\u001b[1m21/21\u001b[0m \u001b[32m━━━━━━━━━━━━━━━━━━━━\u001b[0m\u001b[37m\u001b[0m \u001b[1m0s\u001b[0m 14ms/step - accuracy: 0.5085 - loss: 1.3144\n",
      "Epoch 7: val_loss did not improve from 1.60001\n",
      "\u001b[1m21/21\u001b[0m \u001b[32m━━━━━━━━━━━━━━━━━━━━\u001b[0m\u001b[37m\u001b[0m \u001b[1m0s\u001b[0m 17ms/step - accuracy: 0.5067 - loss: 1.3140 - val_accuracy: 0.2439 - val_loss: 1.9623 - learning_rate: 0.0010\n",
      "Epoch 8/100\n",
      "\u001b[1m21/21\u001b[0m \u001b[32m━━━━━━━━━━━━━━━━━━━━\u001b[0m\u001b[37m\u001b[0m \u001b[1m0s\u001b[0m 14ms/step - accuracy: 0.5711 - loss: 1.1633\n",
      "Epoch 8: val_loss did not improve from 1.60001\n",
      "\u001b[1m21/21\u001b[0m \u001b[32m━━━━━━━━━━━━━━━━━━━━\u001b[0m\u001b[37m\u001b[0m \u001b[1m0s\u001b[0m 16ms/step - accuracy: 0.5696 - loss: 1.1635 - val_accuracy: 0.2195 - val_loss: 2.2050 - learning_rate: 0.0010\n",
      "Epoch 9/100\n",
      "\u001b[1m20/21\u001b[0m \u001b[32m━━━━━━━━━━━━━━━━━━━\u001b[0m\u001b[37m━\u001b[0m \u001b[1m0s\u001b[0m 15ms/step - accuracy: 0.5157 - loss: 1.1372\n",
      "Epoch 9: val_loss did not improve from 1.60001\n",
      "\u001b[1m21/21\u001b[0m \u001b[32m━━━━━━━━━━━━━━━━━━━━\u001b[0m\u001b[37m\u001b[0m \u001b[1m0s\u001b[0m 17ms/step - accuracy: 0.5165 - loss: 1.1401 - val_accuracy: 0.2195 - val_loss: 2.3804 - learning_rate: 0.0010\n",
      "Epoch 10/100\n",
      "\u001b[1m21/21\u001b[0m \u001b[32m━━━━━━━━━━━━━━━━━━━━\u001b[0m\u001b[37m\u001b[0m \u001b[1m0s\u001b[0m 15ms/step - accuracy: 0.5618 - loss: 1.1512\n",
      "Epoch 10: ReduceLROnPlateau reducing learning rate to 0.0005000000237487257.\n",
      "\n",
      "Epoch 10: val_loss did not improve from 1.60001\n",
      "\u001b[1m21/21\u001b[0m \u001b[32m━━━━━━━━━━━━━━━━━━━━\u001b[0m\u001b[37m\u001b[0m \u001b[1m0s\u001b[0m 17ms/step - accuracy: 0.5606 - loss: 1.1531 - val_accuracy: 0.2683 - val_loss: 1.9570 - learning_rate: 0.0010\n",
      "Epoch 11/100\n",
      "\u001b[1m21/21\u001b[0m \u001b[32m━━━━━━━━━━━━━━━━━━━━\u001b[0m\u001b[37m\u001b[0m \u001b[1m0s\u001b[0m 17ms/step - accuracy: 0.5929 - loss: 1.0973\n",
      "Epoch 11: val_loss did not improve from 1.60001\n",
      "\u001b[1m21/21\u001b[0m \u001b[32m━━━━━━━━━━━━━━━━━━━━\u001b[0m\u001b[37m\u001b[0m \u001b[1m0s\u001b[0m 19ms/step - accuracy: 0.5912 - loss: 1.0999 - val_accuracy: 0.3415 - val_loss: 1.6251 - learning_rate: 5.0000e-04\n",
      "Epoch 12/100\n",
      "\u001b[1m20/21\u001b[0m \u001b[32m━━━━━━━━━━━━━━━━━━━\u001b[0m\u001b[37m━\u001b[0m \u001b[1m0s\u001b[0m 15ms/step - accuracy: 0.6473 - loss: 0.9807\n",
      "Epoch 12: val_loss improved from 1.60001 to 1.58646, saving model to best_cnn_lstm_model.h5\n"
     ]
    },
    {
     "name": "stderr",
     "output_type": "stream",
     "text": [
      "WARNING:absl:You are saving your model as an HDF5 file via `model.save()` or `keras.saving.save_model(model)`. This file format is considered legacy. We recommend using instead the native Keras format, e.g. `model.save('my_model.keras')` or `keras.saving.save_model(model, 'my_model.keras')`. \n"
     ]
    },
    {
     "name": "stdout",
     "output_type": "stream",
     "text": [
      "\u001b[1m21/21\u001b[0m \u001b[32m━━━━━━━━━━━━━━━━━━━━\u001b[0m\u001b[37m\u001b[0m \u001b[1m0s\u001b[0m 18ms/step - accuracy: 0.6412 - loss: 0.9885 - val_accuracy: 0.4146 - val_loss: 1.5865 - learning_rate: 5.0000e-04\n",
      "Epoch 13/100\n",
      "\u001b[1m20/21\u001b[0m \u001b[32m━━━━━━━━━━━━━━━━━━━\u001b[0m\u001b[37m━\u001b[0m \u001b[1m0s\u001b[0m 15ms/step - accuracy: 0.6146 - loss: 0.9759\n",
      "Epoch 13: val_loss improved from 1.58646 to 1.21554, saving model to best_cnn_lstm_model.h5\n"
     ]
    },
    {
     "name": "stderr",
     "output_type": "stream",
     "text": [
      "WARNING:absl:You are saving your model as an HDF5 file via `model.save()` or `keras.saving.save_model(model)`. This file format is considered legacy. We recommend using instead the native Keras format, e.g. `model.save('my_model.keras')` or `keras.saving.save_model(model, 'my_model.keras')`. \n"
     ]
    },
    {
     "name": "stdout",
     "output_type": "stream",
     "text": [
      "\u001b[1m21/21\u001b[0m \u001b[32m━━━━━━━━━━━━━━━━━━━━\u001b[0m\u001b[37m\u001b[0m \u001b[1m0s\u001b[0m 18ms/step - accuracy: 0.6159 - loss: 0.9774 - val_accuracy: 0.5122 - val_loss: 1.2155 - learning_rate: 5.0000e-04\n",
      "Epoch 14/100\n",
      "\u001b[1m20/21\u001b[0m \u001b[32m━━━━━━━━━━━━━━━━━━━\u001b[0m\u001b[37m━\u001b[0m \u001b[1m0s\u001b[0m 15ms/step - accuracy: 0.6350 - loss: 0.9278\n",
      "Epoch 14: val_loss improved from 1.21554 to 1.17101, saving model to best_cnn_lstm_model.h5\n"
     ]
    },
    {
     "name": "stderr",
     "output_type": "stream",
     "text": [
      "WARNING:absl:You are saving your model as an HDF5 file via `model.save()` or `keras.saving.save_model(model)`. This file format is considered legacy. We recommend using instead the native Keras format, e.g. `model.save('my_model.keras')` or `keras.saving.save_model(model, 'my_model.keras')`. \n"
     ]
    },
    {
     "name": "stdout",
     "output_type": "stream",
     "text": [
      "\u001b[1m21/21\u001b[0m \u001b[32m━━━━━━━━━━━━━━━━━━━━\u001b[0m\u001b[37m\u001b[0m \u001b[1m0s\u001b[0m 18ms/step - accuracy: 0.6332 - loss: 0.9335 - val_accuracy: 0.5366 - val_loss: 1.1710 - learning_rate: 5.0000e-04\n",
      "Epoch 15/100\n",
      "\u001b[1m20/21\u001b[0m \u001b[32m━━━━━━━━━━━━━━━━━━━\u001b[0m\u001b[37m━\u001b[0m \u001b[1m0s\u001b[0m 15ms/step - accuracy: 0.6788 - loss: 0.8740\n",
      "Epoch 15: val_loss did not improve from 1.17101\n",
      "\u001b[1m21/21\u001b[0m \u001b[32m━━━━━━━━━━━━━━━━━━━━\u001b[0m\u001b[37m\u001b[0m \u001b[1m0s\u001b[0m 17ms/step - accuracy: 0.6769 - loss: 0.8822 - val_accuracy: 0.4878 - val_loss: 1.6740 - learning_rate: 5.0000e-04\n",
      "Epoch 16/100\n",
      "\u001b[1m21/21\u001b[0m \u001b[32m━━━━━━━━━━━━━━━━━━━━\u001b[0m\u001b[37m\u001b[0m \u001b[1m0s\u001b[0m 15ms/step - accuracy: 0.5811 - loss: 0.9697\n",
      "Epoch 16: val_loss did not improve from 1.17101\n",
      "\u001b[1m21/21\u001b[0m \u001b[32m━━━━━━━━━━━━━━━━━━━━\u001b[0m\u001b[37m\u001b[0m \u001b[1m0s\u001b[0m 18ms/step - accuracy: 0.5832 - loss: 0.9679 - val_accuracy: 0.4878 - val_loss: 1.2273 - learning_rate: 5.0000e-04\n",
      "Epoch 17/100\n",
      "\u001b[1m20/21\u001b[0m \u001b[32m━━━━━━━━━━━━━━━━━━━\u001b[0m\u001b[37m━\u001b[0m \u001b[1m0s\u001b[0m 15ms/step - accuracy: 0.6250 - loss: 0.8594\n",
      "Epoch 17: val_loss did not improve from 1.17101\n",
      "\u001b[1m21/21\u001b[0m \u001b[32m━━━━━━━━━━━━━━━━━━━━\u001b[0m\u001b[37m\u001b[0m \u001b[1m0s\u001b[0m 17ms/step - accuracy: 0.6236 - loss: 0.8648 - val_accuracy: 0.4390 - val_loss: 1.4428 - learning_rate: 5.0000e-04\n",
      "Epoch 18/100\n",
      "\u001b[1m21/21\u001b[0m \u001b[32m━━━━━━━━━━━━━━━━━━━━\u001b[0m\u001b[37m\u001b[0m \u001b[1m0s\u001b[0m 17ms/step - accuracy: 0.7159 - loss: 0.8146\n",
      "Epoch 18: val_loss did not improve from 1.17101\n",
      "\u001b[1m21/21\u001b[0m \u001b[32m━━━━━━━━━━━━━━━━━━━━\u001b[0m\u001b[37m\u001b[0m \u001b[1m0s\u001b[0m 19ms/step - accuracy: 0.7175 - loss: 0.8143 - val_accuracy: 0.3415 - val_loss: 1.8942 - learning_rate: 5.0000e-04\n",
      "Epoch 19/100\n",
      "\u001b[1m21/21\u001b[0m \u001b[32m━━━━━━━━━━━━━━━━━━━━\u001b[0m\u001b[37m\u001b[0m \u001b[1m0s\u001b[0m 15ms/step - accuracy: 0.7158 - loss: 0.7285\n",
      "Epoch 19: ReduceLROnPlateau reducing learning rate to 0.0002500000118743628.\n",
      "\n",
      "Epoch 19: val_loss did not improve from 1.17101\n",
      "\u001b[1m21/21\u001b[0m \u001b[32m━━━━━━━━━━━━━━━━━━━━\u001b[0m\u001b[37m\u001b[0m \u001b[1m0s\u001b[0m 17ms/step - accuracy: 0.7145 - loss: 0.7320 - val_accuracy: 0.5854 - val_loss: 1.3042 - learning_rate: 5.0000e-04\n",
      "Epoch 20/100\n",
      "\u001b[1m19/21\u001b[0m \u001b[32m━━━━━━━━━━━━━━━━━━\u001b[0m\u001b[37m━━\u001b[0m \u001b[1m0s\u001b[0m 17ms/step - accuracy: 0.7212 - loss: 0.8481\n",
      "Epoch 20: val_loss did not improve from 1.17101\n",
      "\u001b[1m21/21\u001b[0m \u001b[32m━━━━━━━━━━━━━━━━━━━━\u001b[0m\u001b[37m\u001b[0m \u001b[1m0s\u001b[0m 19ms/step - accuracy: 0.7173 - loss: 0.8457 - val_accuracy: 0.4390 - val_loss: 1.5518 - learning_rate: 2.5000e-04\n",
      "Epoch 21/100\n",
      "\u001b[1m21/21\u001b[0m \u001b[32m━━━━━━━━━━━━━━━━━━━━\u001b[0m\u001b[37m\u001b[0m \u001b[1m0s\u001b[0m 15ms/step - accuracy: 0.6988 - loss: 0.7410\n",
      "Epoch 21: val_loss did not improve from 1.17101\n",
      "\u001b[1m21/21\u001b[0m \u001b[32m━━━━━━━━━━━━━━━━━━━━\u001b[0m\u001b[37m\u001b[0m \u001b[1m0s\u001b[0m 17ms/step - accuracy: 0.6997 - loss: 0.7411 - val_accuracy: 0.4390 - val_loss: 1.6535 - learning_rate: 2.5000e-04\n",
      "Epoch 22/100\n",
      "\u001b[1m21/21\u001b[0m \u001b[32m━━━━━━━━━━━━━━━━━━━━\u001b[0m\u001b[37m\u001b[0m \u001b[1m0s\u001b[0m 15ms/step - accuracy: 0.7260 - loss: 0.7562\n",
      "Epoch 22: val_loss did not improve from 1.17101\n",
      "\u001b[1m21/21\u001b[0m \u001b[32m━━━━━━━━━━━━━━━━━━━━\u001b[0m\u001b[37m\u001b[0m \u001b[1m0s\u001b[0m 17ms/step - accuracy: 0.7249 - loss: 0.7565 - val_accuracy: 0.4878 - val_loss: 1.3938 - learning_rate: 2.5000e-04\n",
      "Epoch 23/100\n",
      "\u001b[1m21/21\u001b[0m \u001b[32m━━━━━━━━━━━━━━━━━━━━\u001b[0m\u001b[37m\u001b[0m \u001b[1m0s\u001b[0m 15ms/step - accuracy: 0.6928 - loss: 0.7608\n",
      "Epoch 23: val_loss did not improve from 1.17101\n",
      "\u001b[1m21/21\u001b[0m \u001b[32m━━━━━━━━━━━━━━━━━━━━\u001b[0m\u001b[37m\u001b[0m \u001b[1m0s\u001b[0m 17ms/step - accuracy: 0.6943 - loss: 0.7591 - val_accuracy: 0.4390 - val_loss: 1.6860 - learning_rate: 2.5000e-04\n",
      "Epoch 24/100\n",
      "\u001b[1m21/21\u001b[0m \u001b[32m━━━━━━━━━━━━━━━━━━━━\u001b[0m\u001b[37m\u001b[0m \u001b[1m0s\u001b[0m 15ms/step - accuracy: 0.7842 - loss: 0.6419\n",
      "Epoch 24: ReduceLROnPlateau reducing learning rate to 0.0001250000059371814.\n",
      "\n",
      "Epoch 24: val_loss did not improve from 1.17101\n",
      "\u001b[1m21/21\u001b[0m \u001b[32m━━━━━━━━━━━━━━━━━━━━\u001b[0m\u001b[37m\u001b[0m \u001b[1m0s\u001b[0m 17ms/step - accuracy: 0.7821 - loss: 0.6442 - val_accuracy: 0.5610 - val_loss: 1.3299 - learning_rate: 2.5000e-04\n",
      "Epoch 24: early stopping\n",
      "Restoring model weights from the end of the best epoch: 14.\n"
     ]
    }
   ],
   "source": [
    "# ✅ Training Callbacks\n",
    "early_stopping = EarlyStopping(\n",
    "    monitor='val_loss',\n",
    "    patience=10,\n",
    "    restore_best_weights=True,\n",
    "    verbose=1\n",
    ")\n",
    "\n",
    "reduce_lr = ReduceLROnPlateau(\n",
    "    monitor='val_loss',\n",
    "    factor=0.5,\n",
    "    patience=5,\n",
    "    verbose=1\n",
    ")\n",
    "\n",
    "checkpoint = ModelCheckpoint(\n",
    "    'best_cnn_lstm_model.h5',\n",
    "    monitor='val_loss',\n",
    "    save_best_only=True,\n",
    "    verbose=1\n",
    ")\n",
    "\n",
    "# ✅ Train the Model\n",
    "history = model.fit(\n",
    "    X_train, y_train,\n",
    "    validation_data=(X_test, y_test),\n",
    "    epochs=EPOCHS,\n",
    "    batch_size=BATCH_SIZE,\n",
    "    callbacks=[early_stopping, reduce_lr, checkpoint],\n",
    "    verbose=1\n",
    ")\n"
   ]
  },
  {
   "cell_type": "code",
   "execution_count": 67,
   "metadata": {},
   "outputs": [
    {
     "data": {
      "image/png": "[encoded data removed]",
      "text/plain": [
       "<Figure size 1200x600 with 2 Axes>"
      ]
     },
     "metadata": {},
     "output_type": "display_data"
    }
   ],
   "source": [
    "# ✅ Plot Training & Validation Accuracy and Loss\n",
    "plt.figure(figsize=(12, 6))\n",
    "\n",
    "# Accuracy plot\n",
    "plt.subplot(1, 2, 1)\n",
    "plt.plot(history.history['accuracy'], label='Training Accuracy', marker='o')\n",
    "plt.plot(history.history['val_accuracy'], label='Validation Accuracy', marker='o')\n",
    "plt.title('Model Accuracy Over Epochs')\n",
    "plt.xlabel('Epoch')\n",
    "plt.ylabel('Accuracy')\n",
    "plt.legend()\n",
    "plt.grid()\n",
    "\n",
    "# Loss plot\n",
    "plt.subplot(1, 2, 2)\n",
    "plt.plot(history.history['loss'], label='Training Loss', marker='o')\n",
    "plt.plot(history.history['val_loss'], label='Validation Loss', marker='o')\n",
    "plt.title('Model Loss Over Epochs')\n",
    "plt.xlabel('Epoch')\n",
    "plt.ylabel('Loss')\n",
    "plt.legend()\n",
    "plt.grid()\n",
    "\n",
    "plt.tight_layout()\n",
    "plt.show()\n"
   ]
  },
  {
   "cell_type": "code",
   "execution_count": 68,
   "metadata": {},
   "outputs": [
    {
     "name": "stderr",
     "output_type": "stream",
     "text": [
      "WARNING:absl:Compiled the loaded model, but the compiled metrics have yet to be built. `model.compile_metrics` will be empty until you train or evaluate the model.\n"
     ]
    },
    {
     "name": "stdout",
     "output_type": "stream",
     "text": [
      "\u001b[1m2/2\u001b[0m \u001b[32m━━━━━━━━━━━━━━━━━━━━\u001b[0m\u001b[37m\u001b[0m \u001b[1m0s\u001b[0m 13ms/step - accuracy: 0.5348 - loss: 1.1793 \n",
      "✅ Final Test Accuracy: 53.66%\n",
      "✅ Final Test Loss: 1.1710\n"
     ]
    }
   ],
   "source": [
    "# ✅ Load the Best Saved Model\n",
    "best_model = tf.keras.models.load_model('best_cnn_lstm_model.h5')\n",
    "\n",
    "# ✅ Evaluate on Test Data\n",
    "test_loss, test_accuracy = best_model.evaluate(X_test, y_test, verbose=1)\n",
    "\n",
    "print(f\"✅ Final Test Accuracy: {test_accuracy * 100:.2f}%\")\n",
    "print(f\"✅ Final Test Loss: {test_loss:.4f}\")\n"
   ]
  },
  {
   "cell_type": "code",
   "execution_count": 69,
   "metadata": {},
   "outputs": [
    {
     "name": "stdout",
     "output_type": "stream",
     "text": [
      "\u001b[1m2/2\u001b[0m \u001b[32m━━━━━━━━━━━━━━━━━━━━\u001b[0m\u001b[37m\u001b[0m \u001b[1m0s\u001b[0m 158ms/step\n",
      "\n",
      "✅ Classification Report:\n",
      "              precision    recall  f1-score   support\n",
      "\n",
      " Cover_Drive       0.56      0.56      0.56         9\n",
      "    Cut_shot       0.75      0.38      0.50         8\n",
      "     Defence       0.50      0.50      0.50         8\n",
      "   Pull_Shot       0.54      0.78      0.64         9\n",
      "  Sweep_Shot       0.43      0.43      0.43         7\n",
      "\n",
      "    accuracy                           0.54        41\n",
      "   macro avg       0.55      0.53      0.52        41\n",
      "weighted avg       0.56      0.54      0.53        41\n",
      "\n"
     ]
    },
    {
     "data": {
      "image/png": "[encoded data removed]",
      "text/plain": [
       "<Figure size 800x600 with 2 Axes>"
      ]
     },
     "metadata": {},
     "output_type": "display_data"
    }
   ],
   "source": [
    "from sklearn.metrics import classification_report, confusion_matrix\n",
    "import seaborn as sns\n",
    "\n",
    "# Get predictions\n",
    "y_pred_probs = best_model.predict(X_test)\n",
    "y_pred_classes = np.argmax(y_pred_probs, axis=1)\n",
    "y_true_classes = np.argmax(y_test, axis=1)\n",
    "\n",
    "# Classification report\n",
    "print(\"\\n✅ Classification Report:\")\n",
    "print(classification_report(y_true_classes, y_pred_classes, target_names=class_labels))\n",
    "\n",
    "# Confusion matrix\n",
    "cm = confusion_matrix(y_true_classes, y_pred_classes)\n",
    "\n",
    "plt.figure(figsize=(8, 6))\n",
    "sns.heatmap(cm, annot=True, fmt=\"d\", cmap=\"Blues\", xticklabels=class_labels, yticklabels=class_labels)\n",
    "plt.title(\"Confusion Matrix\")\n",
    "plt.ylabel(\"True Class\")\n",
    "plt.xlabel(\"Predicted Class\")\n",
    "plt.show()\n"
   ]
  },
  {
   "cell_type": "code",
   "execution_count": 70,
   "metadata": {},
   "outputs": [
    {
     "name": "stderr",
     "output_type": "stream",
     "text": [
      "WARNING:absl:Compiled the loaded model, but the compiled metrics have yet to be built. `model.compile_metrics` will be empty until you train or evaluate the model.\n"
     ]
    },
    {
     "name": "stdout",
     "output_type": "stream",
     "text": [
      "✅ Model and Label Encoder saved successfully!\n",
      "Model Path        : best_cnn_lstm_model.h5\n",
      "Label Encoder Path: label_encoder.pkl\n"
     ]
    }
   ],
   "source": [
    "import joblib\n",
    "\n",
    "# ✅ Save the Best CNN + LSTM Model (already saved during training via ModelCheckpoint)\n",
    "# But we ensure we reload and confirm it's saved properly\n",
    "best_model = tf.keras.models.load_model('best_cnn_lstm_model.h5')\n",
    "\n",
    "# ✅ Save the Label Encoder\n",
    "label_encoder_file = \"label_encoder.pkl\"\n",
    "joblib.dump(label_encoder, label_encoder_file)\n",
    "\n",
    "print(\"✅ Model and Label Encoder saved successfully!\")\n",
    "print(f\"Model Path        : best_cnn_lstm_model.h5\")\n",
    "print(f\"Label Encoder Path: {label_encoder_file}\")\n"
   ]
  },
  {
   "cell_type": "code",
   "execution_count": 71,
   "metadata": {},
   "outputs": [
    {
     "name": "stderr",
     "output_type": "stream",
     "text": [
      "WARNING:absl:Compiled the loaded model, but the compiled metrics have yet to be built. `model.compile_metrics` will be empty until you train or evaluate the model.\n"
     ]
    }
   ],
   "source": [
    "# Flask prediction route\n",
    "model = tf.keras.models.load_model(\"best_cnn_lstm_model.h5\")\n",
    "label_encoder = joblib.load(\"label_encoder.pkl\")\n"
   ]
  }
 ],
 "metadata": {
  "kernelspec": {
   "display_name": "Python 3",
   "language": "python",
   "name": "python3"
  },
  "language_info": {
   "codemirror_mode": {
    "name": "ipython",
    "version": 3
   },
   "file_extension": ".py",
   "mimetype": "text/x-python",
   "name": "python",
   "nbconvert_exporter": "python",
   "pygments_lexer": "ipython3",
   "version": "3.10.0"
  }
 },
 "nbformat": 4,
 "nbformat_minor": 2
}
